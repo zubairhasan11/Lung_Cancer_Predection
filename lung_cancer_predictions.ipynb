{
 "cells": [
  {
   "cell_type": "markdown",
   "metadata": {},
   "source": [
    "# **Lung Cancer Prediction**"
   ]
  },
  {
   "cell_type": "markdown",
   "metadata": {},
   "source": [
    "###### Lung cancer prediction using various machine learning classification models using Scikit-learn library in Python is a code implementation that aims to develop a predictive model for detecting lung cancer in patients. The code uses 10 different machine learning algorithms, including logistic regression, decision tree, k-nearest neighbor, Gaussian naive Bayes, multinomial naive Bayes, support vector classifier, random forest, XGBoost, multi-layer perceptron, and gradient boosting classifier, to predict the likelihood of lung cancer based on a range of variables. The dataset used in the code includes various columns such as gender, age, smoking, yellow fingers, anxiety, peer pressure, chronic disease, fatigue, allergy, wheezing, alcohol consuming, coughing, shortness of breath, swallowing difficulty, chest pain, and lung cancer. By analyzing these variables and using machine learning algorithms to identify patterns and correlations, the predictive models can provide accurate assessments of a patient's risk of developing lung cancer."
   ]
  },
  {
   "cell_type": "code",
   "execution_count": 70,
   "metadata": {
    "execution": {
     "iopub.execute_input": "2023-03-04T12:01:05.414932Z",
     "iopub.status.busy": "2023-03-04T12:01:05.414492Z",
     "iopub.status.idle": "2023-03-04T12:01:05.421927Z",
     "shell.execute_reply": "2023-03-04T12:01:05.420667Z",
     "shell.execute_reply.started": "2023-03-04T12:01:05.414900Z"
    }
   },
   "outputs": [],
   "source": [
    "#Importing Libraries\n",
    "import pandas as pd\n",
    "import numpy as np\n",
    "import matplotlib.pyplot as plt\n",
    "import seaborn as sns\n",
    "\n",
    "#For ignoring warning\n",
    "import warnings\n",
    "warnings.filterwarnings(\"ignore\")"
   ]
  },
  {
   "cell_type": "code",
   "execution_count": 71,
   "metadata": {
    "execution": {
     "iopub.execute_input": "2023-03-04T12:01:05.426999Z",
     "iopub.status.busy": "2023-03-04T12:01:05.426620Z",
     "iopub.status.idle": "2023-03-04T12:01:05.467079Z",
     "shell.execute_reply": "2023-03-04T12:01:05.466098Z",
     "shell.execute_reply.started": "2023-03-04T12:01:05.426968Z"
    }
   },
   "outputs": [
    {
     "data": {
      "text/html": [
       "<div>\n",
       "<style scoped>\n",
       "    .dataframe tbody tr th:only-of-type {\n",
       "        vertical-align: middle;\n",
       "    }\n",
       "\n",
       "    .dataframe tbody tr th {\n",
       "        vertical-align: top;\n",
       "    }\n",
       "\n",
       "    .dataframe thead th {\n",
       "        text-align: right;\n",
       "    }\n",
       "</style>\n",
       "<table border=\"1\" class=\"dataframe\">\n",
       "  <thead>\n",
       "    <tr style=\"text-align: right;\">\n",
       "      <th></th>\n",
       "      <th>GENDER</th>\n",
       "      <th>AGE</th>\n",
       "      <th>SMOKING</th>\n",
       "      <th>YELLOW_FINGERS</th>\n",
       "      <th>ANXIETY</th>\n",
       "      <th>PEER_PRESSURE</th>\n",
       "      <th>CHRONIC DISEASE</th>\n",
       "      <th>FATIGUE</th>\n",
       "      <th>ALLERGY</th>\n",
       "      <th>WHEEZING</th>\n",
       "      <th>ALCOHOL CONSUMING</th>\n",
       "      <th>COUGHING</th>\n",
       "      <th>SHORTNESS OF BREATH</th>\n",
       "      <th>SWALLOWING DIFFICULTY</th>\n",
       "      <th>CHEST PAIN</th>\n",
       "      <th>LUNG_CANCER</th>\n",
       "    </tr>\n",
       "  </thead>\n",
       "  <tbody>\n",
       "    <tr>\n",
       "      <th>0</th>\n",
       "      <td>M</td>\n",
       "      <td>69</td>\n",
       "      <td>1</td>\n",
       "      <td>2</td>\n",
       "      <td>2</td>\n",
       "      <td>1</td>\n",
       "      <td>1</td>\n",
       "      <td>2</td>\n",
       "      <td>1</td>\n",
       "      <td>2</td>\n",
       "      <td>2</td>\n",
       "      <td>2</td>\n",
       "      <td>2</td>\n",
       "      <td>2</td>\n",
       "      <td>2</td>\n",
       "      <td>YES</td>\n",
       "    </tr>\n",
       "    <tr>\n",
       "      <th>1</th>\n",
       "      <td>M</td>\n",
       "      <td>74</td>\n",
       "      <td>2</td>\n",
       "      <td>1</td>\n",
       "      <td>1</td>\n",
       "      <td>1</td>\n",
       "      <td>2</td>\n",
       "      <td>2</td>\n",
       "      <td>2</td>\n",
       "      <td>1</td>\n",
       "      <td>1</td>\n",
       "      <td>1</td>\n",
       "      <td>2</td>\n",
       "      <td>2</td>\n",
       "      <td>2</td>\n",
       "      <td>YES</td>\n",
       "    </tr>\n",
       "    <tr>\n",
       "      <th>2</th>\n",
       "      <td>F</td>\n",
       "      <td>59</td>\n",
       "      <td>1</td>\n",
       "      <td>1</td>\n",
       "      <td>1</td>\n",
       "      <td>2</td>\n",
       "      <td>1</td>\n",
       "      <td>2</td>\n",
       "      <td>1</td>\n",
       "      <td>2</td>\n",
       "      <td>1</td>\n",
       "      <td>2</td>\n",
       "      <td>2</td>\n",
       "      <td>1</td>\n",
       "      <td>2</td>\n",
       "      <td>NO</td>\n",
       "    </tr>\n",
       "    <tr>\n",
       "      <th>3</th>\n",
       "      <td>M</td>\n",
       "      <td>63</td>\n",
       "      <td>2</td>\n",
       "      <td>2</td>\n",
       "      <td>2</td>\n",
       "      <td>1</td>\n",
       "      <td>1</td>\n",
       "      <td>1</td>\n",
       "      <td>1</td>\n",
       "      <td>1</td>\n",
       "      <td>2</td>\n",
       "      <td>1</td>\n",
       "      <td>1</td>\n",
       "      <td>2</td>\n",
       "      <td>2</td>\n",
       "      <td>NO</td>\n",
       "    </tr>\n",
       "    <tr>\n",
       "      <th>4</th>\n",
       "      <td>F</td>\n",
       "      <td>63</td>\n",
       "      <td>1</td>\n",
       "      <td>2</td>\n",
       "      <td>1</td>\n",
       "      <td>1</td>\n",
       "      <td>1</td>\n",
       "      <td>1</td>\n",
       "      <td>1</td>\n",
       "      <td>2</td>\n",
       "      <td>1</td>\n",
       "      <td>2</td>\n",
       "      <td>2</td>\n",
       "      <td>1</td>\n",
       "      <td>1</td>\n",
       "      <td>NO</td>\n",
       "    </tr>\n",
       "    <tr>\n",
       "      <th>...</th>\n",
       "      <td>...</td>\n",
       "      <td>...</td>\n",
       "      <td>...</td>\n",
       "      <td>...</td>\n",
       "      <td>...</td>\n",
       "      <td>...</td>\n",
       "      <td>...</td>\n",
       "      <td>...</td>\n",
       "      <td>...</td>\n",
       "      <td>...</td>\n",
       "      <td>...</td>\n",
       "      <td>...</td>\n",
       "      <td>...</td>\n",
       "      <td>...</td>\n",
       "      <td>...</td>\n",
       "      <td>...</td>\n",
       "    </tr>\n",
       "    <tr>\n",
       "      <th>304</th>\n",
       "      <td>F</td>\n",
       "      <td>56</td>\n",
       "      <td>1</td>\n",
       "      <td>1</td>\n",
       "      <td>1</td>\n",
       "      <td>2</td>\n",
       "      <td>2</td>\n",
       "      <td>2</td>\n",
       "      <td>1</td>\n",
       "      <td>1</td>\n",
       "      <td>2</td>\n",
       "      <td>2</td>\n",
       "      <td>2</td>\n",
       "      <td>2</td>\n",
       "      <td>1</td>\n",
       "      <td>YES</td>\n",
       "    </tr>\n",
       "    <tr>\n",
       "      <th>305</th>\n",
       "      <td>M</td>\n",
       "      <td>70</td>\n",
       "      <td>2</td>\n",
       "      <td>1</td>\n",
       "      <td>1</td>\n",
       "      <td>1</td>\n",
       "      <td>1</td>\n",
       "      <td>2</td>\n",
       "      <td>2</td>\n",
       "      <td>2</td>\n",
       "      <td>2</td>\n",
       "      <td>2</td>\n",
       "      <td>2</td>\n",
       "      <td>1</td>\n",
       "      <td>2</td>\n",
       "      <td>YES</td>\n",
       "    </tr>\n",
       "    <tr>\n",
       "      <th>306</th>\n",
       "      <td>M</td>\n",
       "      <td>58</td>\n",
       "      <td>2</td>\n",
       "      <td>1</td>\n",
       "      <td>1</td>\n",
       "      <td>1</td>\n",
       "      <td>1</td>\n",
       "      <td>1</td>\n",
       "      <td>2</td>\n",
       "      <td>2</td>\n",
       "      <td>2</td>\n",
       "      <td>2</td>\n",
       "      <td>1</td>\n",
       "      <td>1</td>\n",
       "      <td>2</td>\n",
       "      <td>YES</td>\n",
       "    </tr>\n",
       "    <tr>\n",
       "      <th>307</th>\n",
       "      <td>M</td>\n",
       "      <td>67</td>\n",
       "      <td>2</td>\n",
       "      <td>1</td>\n",
       "      <td>2</td>\n",
       "      <td>1</td>\n",
       "      <td>1</td>\n",
       "      <td>2</td>\n",
       "      <td>2</td>\n",
       "      <td>1</td>\n",
       "      <td>2</td>\n",
       "      <td>2</td>\n",
       "      <td>2</td>\n",
       "      <td>1</td>\n",
       "      <td>2</td>\n",
       "      <td>YES</td>\n",
       "    </tr>\n",
       "    <tr>\n",
       "      <th>308</th>\n",
       "      <td>M</td>\n",
       "      <td>62</td>\n",
       "      <td>1</td>\n",
       "      <td>1</td>\n",
       "      <td>1</td>\n",
       "      <td>2</td>\n",
       "      <td>1</td>\n",
       "      <td>2</td>\n",
       "      <td>2</td>\n",
       "      <td>2</td>\n",
       "      <td>2</td>\n",
       "      <td>1</td>\n",
       "      <td>1</td>\n",
       "      <td>2</td>\n",
       "      <td>1</td>\n",
       "      <td>YES</td>\n",
       "    </tr>\n",
       "  </tbody>\n",
       "</table>\n",
       "<p>309 rows × 16 columns</p>\n",
       "</div>"
      ],
      "text/plain": [
       "    GENDER  AGE  SMOKING  YELLOW_FINGERS  ANXIETY  PEER_PRESSURE  \\\n",
       "0        M   69        1               2        2              1   \n",
       "1        M   74        2               1        1              1   \n",
       "2        F   59        1               1        1              2   \n",
       "3        M   63        2               2        2              1   \n",
       "4        F   63        1               2        1              1   \n",
       "..     ...  ...      ...             ...      ...            ...   \n",
       "304      F   56        1               1        1              2   \n",
       "305      M   70        2               1        1              1   \n",
       "306      M   58        2               1        1              1   \n",
       "307      M   67        2               1        2              1   \n",
       "308      M   62        1               1        1              2   \n",
       "\n",
       "     CHRONIC DISEASE  FATIGUE   ALLERGY   WHEEZING  ALCOHOL CONSUMING  \\\n",
       "0                  1         2         1         2                  2   \n",
       "1                  2         2         2         1                  1   \n",
       "2                  1         2         1         2                  1   \n",
       "3                  1         1         1         1                  2   \n",
       "4                  1         1         1         2                  1   \n",
       "..               ...       ...       ...       ...                ...   \n",
       "304                2         2         1         1                  2   \n",
       "305                1         2         2         2                  2   \n",
       "306                1         1         2         2                  2   \n",
       "307                1         2         2         1                  2   \n",
       "308                1         2         2         2                  2   \n",
       "\n",
       "     COUGHING  SHORTNESS OF BREATH  SWALLOWING DIFFICULTY  CHEST PAIN  \\\n",
       "0           2                    2                      2           2   \n",
       "1           1                    2                      2           2   \n",
       "2           2                    2                      1           2   \n",
       "3           1                    1                      2           2   \n",
       "4           2                    2                      1           1   \n",
       "..        ...                  ...                    ...         ...   \n",
       "304         2                    2                      2           1   \n",
       "305         2                    2                      1           2   \n",
       "306         2                    1                      1           2   \n",
       "307         2                    2                      1           2   \n",
       "308         1                    1                      2           1   \n",
       "\n",
       "    LUNG_CANCER  \n",
       "0           YES  \n",
       "1           YES  \n",
       "2            NO  \n",
       "3            NO  \n",
       "4            NO  \n",
       "..          ...  \n",
       "304         YES  \n",
       "305         YES  \n",
       "306         YES  \n",
       "307         YES  \n",
       "308         YES  \n",
       "\n",
       "[309 rows x 16 columns]"
      ]
     },
     "execution_count": 71,
     "metadata": {},
     "output_type": "execute_result"
    }
   ],
   "source": [
    "df=pd.read_csv('kaggle/input/lung-cancer/survey lung cancer.csv')\n",
    "df"
   ]
  },
  {
   "cell_type": "markdown",
   "metadata": {},
   "source": [
    "**Note: In this dataset, YES=2 & NO=1**"
   ]
  },
  {
   "cell_type": "code",
   "execution_count": 72,
   "metadata": {
    "execution": {
     "iopub.execute_input": "2023-03-04T12:01:05.469300Z",
     "iopub.status.busy": "2023-03-04T12:01:05.468655Z",
     "iopub.status.idle": "2023-03-04T12:01:05.477769Z",
     "shell.execute_reply": "2023-03-04T12:01:05.476419Z",
     "shell.execute_reply.started": "2023-03-04T12:01:05.469266Z"
    }
   },
   "outputs": [
    {
     "data": {
      "text/plain": [
       "(309, 16)"
      ]
     },
     "execution_count": 72,
     "metadata": {},
     "output_type": "execute_result"
    }
   ],
   "source": [
    "df.shape"
   ]
  },
  {
   "cell_type": "code",
   "execution_count": 73,
   "metadata": {
    "execution": {
     "iopub.execute_input": "2023-03-04T12:01:05.479955Z",
     "iopub.status.busy": "2023-03-04T12:01:05.479483Z",
     "iopub.status.idle": "2023-03-04T12:01:05.493576Z",
     "shell.execute_reply": "2023-03-04T12:01:05.492690Z",
     "shell.execute_reply.started": "2023-03-04T12:01:05.479909Z"
    }
   },
   "outputs": [
    {
     "data": {
      "text/plain": [
       "33"
      ]
     },
     "execution_count": 73,
     "metadata": {},
     "output_type": "execute_result"
    }
   ],
   "source": [
    "#Checking for Duplicates\n",
    "df.duplicated().sum()"
   ]
  },
  {
   "cell_type": "code",
   "execution_count": 74,
   "metadata": {
    "execution": {
     "iopub.execute_input": "2023-03-04T12:01:05.496924Z",
     "iopub.status.busy": "2023-03-04T12:01:05.496297Z",
     "iopub.status.idle": "2023-03-04T12:01:05.505440Z",
     "shell.execute_reply": "2023-03-04T12:01:05.504273Z",
     "shell.execute_reply.started": "2023-03-04T12:01:05.496884Z"
    }
   },
   "outputs": [],
   "source": [
    "#Removing Duplicates\n",
    "df=df.drop_duplicates()"
   ]
  },
  {
   "cell_type": "code",
   "execution_count": 75,
   "metadata": {
    "execution": {
     "iopub.execute_input": "2023-03-04T12:01:05.507682Z",
     "iopub.status.busy": "2023-03-04T12:01:05.506674Z",
     "iopub.status.idle": "2023-03-04T12:01:05.519781Z",
     "shell.execute_reply": "2023-03-04T12:01:05.518523Z",
     "shell.execute_reply.started": "2023-03-04T12:01:05.507647Z"
    }
   },
   "outputs": [
    {
     "data": {
      "text/plain": [
       "GENDER                   0\n",
       "AGE                      0\n",
       "SMOKING                  0\n",
       "YELLOW_FINGERS           0\n",
       "ANXIETY                  0\n",
       "PEER_PRESSURE            0\n",
       "CHRONIC DISEASE          0\n",
       "FATIGUE                  0\n",
       "ALLERGY                  0\n",
       "WHEEZING                 0\n",
       "ALCOHOL CONSUMING        0\n",
       "COUGHING                 0\n",
       "SHORTNESS OF BREATH      0\n",
       "SWALLOWING DIFFICULTY    0\n",
       "CHEST PAIN               0\n",
       "LUNG_CANCER              0\n",
       "dtype: int64"
      ]
     },
     "execution_count": 75,
     "metadata": {},
     "output_type": "execute_result"
    }
   ],
   "source": [
    "#Checking for null values\n",
    "df.isnull().sum()"
   ]
  },
  {
   "cell_type": "code",
   "execution_count": 76,
   "metadata": {
    "execution": {
     "iopub.execute_input": "2023-03-04T12:01:05.522473Z",
     "iopub.status.busy": "2023-03-04T12:01:05.521439Z",
     "iopub.status.idle": "2023-03-04T12:01:05.535832Z",
     "shell.execute_reply": "2023-03-04T12:01:05.534967Z",
     "shell.execute_reply.started": "2023-03-04T12:01:05.522430Z"
    }
   },
   "outputs": [
    {
     "name": "stdout",
     "output_type": "stream",
     "text": [
      "<class 'pandas.core.frame.DataFrame'>\n",
      "Int64Index: 276 entries, 0 to 283\n",
      "Data columns (total 16 columns):\n",
      " #   Column                 Non-Null Count  Dtype \n",
      "---  ------                 --------------  ----- \n",
      " 0   GENDER                 276 non-null    object\n",
      " 1   AGE                    276 non-null    int64 \n",
      " 2   SMOKING                276 non-null    int64 \n",
      " 3   YELLOW_FINGERS         276 non-null    int64 \n",
      " 4   ANXIETY                276 non-null    int64 \n",
      " 5   PEER_PRESSURE          276 non-null    int64 \n",
      " 6   CHRONIC DISEASE        276 non-null    int64 \n",
      " 7   FATIGUE                276 non-null    int64 \n",
      " 8   ALLERGY                276 non-null    int64 \n",
      " 9   WHEEZING               276 non-null    int64 \n",
      " 10  ALCOHOL CONSUMING      276 non-null    int64 \n",
      " 11  COUGHING               276 non-null    int64 \n",
      " 12  SHORTNESS OF BREATH    276 non-null    int64 \n",
      " 13  SWALLOWING DIFFICULTY  276 non-null    int64 \n",
      " 14  CHEST PAIN             276 non-null    int64 \n",
      " 15  LUNG_CANCER            276 non-null    object\n",
      "dtypes: int64(14), object(2)\n",
      "memory usage: 36.7+ KB\n"
     ]
    }
   ],
   "source": [
    "df.info()"
   ]
  },
  {
   "cell_type": "code",
   "execution_count": 77,
   "metadata": {
    "execution": {
     "iopub.execute_input": "2023-03-04T12:01:05.537744Z",
     "iopub.status.busy": "2023-03-04T12:01:05.537130Z",
     "iopub.status.idle": "2023-03-04T12:01:05.599230Z",
     "shell.execute_reply": "2023-03-04T12:01:05.598130Z",
     "shell.execute_reply.started": "2023-03-04T12:01:05.537691Z"
    }
   },
   "outputs": [
    {
     "data": {
      "text/html": [
       "<div>\n",
       "<style scoped>\n",
       "    .dataframe tbody tr th:only-of-type {\n",
       "        vertical-align: middle;\n",
       "    }\n",
       "\n",
       "    .dataframe tbody tr th {\n",
       "        vertical-align: top;\n",
       "    }\n",
       "\n",
       "    .dataframe thead th {\n",
       "        text-align: right;\n",
       "    }\n",
       "</style>\n",
       "<table border=\"1\" class=\"dataframe\">\n",
       "  <thead>\n",
       "    <tr style=\"text-align: right;\">\n",
       "      <th></th>\n",
       "      <th>AGE</th>\n",
       "      <th>SMOKING</th>\n",
       "      <th>YELLOW_FINGERS</th>\n",
       "      <th>ANXIETY</th>\n",
       "      <th>PEER_PRESSURE</th>\n",
       "      <th>CHRONIC DISEASE</th>\n",
       "      <th>FATIGUE</th>\n",
       "      <th>ALLERGY</th>\n",
       "      <th>WHEEZING</th>\n",
       "      <th>ALCOHOL CONSUMING</th>\n",
       "      <th>COUGHING</th>\n",
       "      <th>SHORTNESS OF BREATH</th>\n",
       "      <th>SWALLOWING DIFFICULTY</th>\n",
       "      <th>CHEST PAIN</th>\n",
       "    </tr>\n",
       "  </thead>\n",
       "  <tbody>\n",
       "    <tr>\n",
       "      <th>count</th>\n",
       "      <td>276.000000</td>\n",
       "      <td>276.000000</td>\n",
       "      <td>276.000000</td>\n",
       "      <td>276.000000</td>\n",
       "      <td>276.000000</td>\n",
       "      <td>276.000000</td>\n",
       "      <td>276.000000</td>\n",
       "      <td>276.000000</td>\n",
       "      <td>276.000000</td>\n",
       "      <td>276.000000</td>\n",
       "      <td>276.000000</td>\n",
       "      <td>276.000000</td>\n",
       "      <td>276.000000</td>\n",
       "      <td>276.000000</td>\n",
       "    </tr>\n",
       "    <tr>\n",
       "      <th>mean</th>\n",
       "      <td>62.909420</td>\n",
       "      <td>1.543478</td>\n",
       "      <td>1.576087</td>\n",
       "      <td>1.496377</td>\n",
       "      <td>1.507246</td>\n",
       "      <td>1.521739</td>\n",
       "      <td>1.663043</td>\n",
       "      <td>1.547101</td>\n",
       "      <td>1.547101</td>\n",
       "      <td>1.550725</td>\n",
       "      <td>1.576087</td>\n",
       "      <td>1.630435</td>\n",
       "      <td>1.467391</td>\n",
       "      <td>1.557971</td>\n",
       "    </tr>\n",
       "    <tr>\n",
       "      <th>std</th>\n",
       "      <td>8.379355</td>\n",
       "      <td>0.499011</td>\n",
       "      <td>0.495075</td>\n",
       "      <td>0.500895</td>\n",
       "      <td>0.500856</td>\n",
       "      <td>0.500435</td>\n",
       "      <td>0.473529</td>\n",
       "      <td>0.498681</td>\n",
       "      <td>0.498681</td>\n",
       "      <td>0.498324</td>\n",
       "      <td>0.495075</td>\n",
       "      <td>0.483564</td>\n",
       "      <td>0.499842</td>\n",
       "      <td>0.497530</td>\n",
       "    </tr>\n",
       "    <tr>\n",
       "      <th>min</th>\n",
       "      <td>21.000000</td>\n",
       "      <td>1.000000</td>\n",
       "      <td>1.000000</td>\n",
       "      <td>1.000000</td>\n",
       "      <td>1.000000</td>\n",
       "      <td>1.000000</td>\n",
       "      <td>1.000000</td>\n",
       "      <td>1.000000</td>\n",
       "      <td>1.000000</td>\n",
       "      <td>1.000000</td>\n",
       "      <td>1.000000</td>\n",
       "      <td>1.000000</td>\n",
       "      <td>1.000000</td>\n",
       "      <td>1.000000</td>\n",
       "    </tr>\n",
       "    <tr>\n",
       "      <th>25%</th>\n",
       "      <td>57.750000</td>\n",
       "      <td>1.000000</td>\n",
       "      <td>1.000000</td>\n",
       "      <td>1.000000</td>\n",
       "      <td>1.000000</td>\n",
       "      <td>1.000000</td>\n",
       "      <td>1.000000</td>\n",
       "      <td>1.000000</td>\n",
       "      <td>1.000000</td>\n",
       "      <td>1.000000</td>\n",
       "      <td>1.000000</td>\n",
       "      <td>1.000000</td>\n",
       "      <td>1.000000</td>\n",
       "      <td>1.000000</td>\n",
       "    </tr>\n",
       "    <tr>\n",
       "      <th>50%</th>\n",
       "      <td>62.500000</td>\n",
       "      <td>2.000000</td>\n",
       "      <td>2.000000</td>\n",
       "      <td>1.000000</td>\n",
       "      <td>2.000000</td>\n",
       "      <td>2.000000</td>\n",
       "      <td>2.000000</td>\n",
       "      <td>2.000000</td>\n",
       "      <td>2.000000</td>\n",
       "      <td>2.000000</td>\n",
       "      <td>2.000000</td>\n",
       "      <td>2.000000</td>\n",
       "      <td>1.000000</td>\n",
       "      <td>2.000000</td>\n",
       "    </tr>\n",
       "    <tr>\n",
       "      <th>75%</th>\n",
       "      <td>69.000000</td>\n",
       "      <td>2.000000</td>\n",
       "      <td>2.000000</td>\n",
       "      <td>2.000000</td>\n",
       "      <td>2.000000</td>\n",
       "      <td>2.000000</td>\n",
       "      <td>2.000000</td>\n",
       "      <td>2.000000</td>\n",
       "      <td>2.000000</td>\n",
       "      <td>2.000000</td>\n",
       "      <td>2.000000</td>\n",
       "      <td>2.000000</td>\n",
       "      <td>2.000000</td>\n",
       "      <td>2.000000</td>\n",
       "    </tr>\n",
       "    <tr>\n",
       "      <th>max</th>\n",
       "      <td>87.000000</td>\n",
       "      <td>2.000000</td>\n",
       "      <td>2.000000</td>\n",
       "      <td>2.000000</td>\n",
       "      <td>2.000000</td>\n",
       "      <td>2.000000</td>\n",
       "      <td>2.000000</td>\n",
       "      <td>2.000000</td>\n",
       "      <td>2.000000</td>\n",
       "      <td>2.000000</td>\n",
       "      <td>2.000000</td>\n",
       "      <td>2.000000</td>\n",
       "      <td>2.000000</td>\n",
       "      <td>2.000000</td>\n",
       "    </tr>\n",
       "  </tbody>\n",
       "</table>\n",
       "</div>"
      ],
      "text/plain": [
       "              AGE     SMOKING  YELLOW_FINGERS     ANXIETY  PEER_PRESSURE  \\\n",
       "count  276.000000  276.000000      276.000000  276.000000     276.000000   \n",
       "mean    62.909420    1.543478        1.576087    1.496377       1.507246   \n",
       "std      8.379355    0.499011        0.495075    0.500895       0.500856   \n",
       "min     21.000000    1.000000        1.000000    1.000000       1.000000   \n",
       "25%     57.750000    1.000000        1.000000    1.000000       1.000000   \n",
       "50%     62.500000    2.000000        2.000000    1.000000       2.000000   \n",
       "75%     69.000000    2.000000        2.000000    2.000000       2.000000   \n",
       "max     87.000000    2.000000        2.000000    2.000000       2.000000   \n",
       "\n",
       "       CHRONIC DISEASE    FATIGUE     ALLERGY     WHEEZING  ALCOHOL CONSUMING  \\\n",
       "count       276.000000  276.000000  276.000000  276.000000         276.000000   \n",
       "mean          1.521739    1.663043    1.547101    1.547101           1.550725   \n",
       "std           0.500435    0.473529    0.498681    0.498681           0.498324   \n",
       "min           1.000000    1.000000    1.000000    1.000000           1.000000   \n",
       "25%           1.000000    1.000000    1.000000    1.000000           1.000000   \n",
       "50%           2.000000    2.000000    2.000000    2.000000           2.000000   \n",
       "75%           2.000000    2.000000    2.000000    2.000000           2.000000   \n",
       "max           2.000000    2.000000    2.000000    2.000000           2.000000   \n",
       "\n",
       "         COUGHING  SHORTNESS OF BREATH  SWALLOWING DIFFICULTY  CHEST PAIN  \n",
       "count  276.000000           276.000000             276.000000  276.000000  \n",
       "mean     1.576087             1.630435               1.467391    1.557971  \n",
       "std      0.495075             0.483564               0.499842    0.497530  \n",
       "min      1.000000             1.000000               1.000000    1.000000  \n",
       "25%      1.000000             1.000000               1.000000    1.000000  \n",
       "50%      2.000000             2.000000               1.000000    2.000000  \n",
       "75%      2.000000             2.000000               2.000000    2.000000  \n",
       "max      2.000000             2.000000               2.000000    2.000000  "
      ]
     },
     "execution_count": 77,
     "metadata": {},
     "output_type": "execute_result"
    }
   ],
   "source": [
    "df.describe()"
   ]
  },
  {
   "cell_type": "markdown",
   "metadata": {},
   "source": [
    "**In this dataset, GENDER & LUNG_CANCER attributes are in object data type. So, let's convert them to numerical values using LabelEncoder from sklearn.\n",
    "LabelEncoder is a utility class to help normalize labels such that they contain only values between 0 and n_classes-1.\n",
    "It can also be used to transform non-numerical labels (as long as they are hashable and comparable) to numerical labels. Also let's make every other attributes as YES=1 & NO=0.**"
   ]
  },
  {
   "cell_type": "code",
   "execution_count": 78,
   "metadata": {
    "execution": {
     "iopub.execute_input": "2023-03-04T12:01:05.600983Z",
     "iopub.status.busy": "2023-03-04T12:01:05.600637Z",
     "iopub.status.idle": "2023-03-04T12:01:05.618991Z",
     "shell.execute_reply": "2023-03-04T12:01:05.617742Z",
     "shell.execute_reply.started": "2023-03-04T12:01:05.600953Z"
    }
   },
   "outputs": [],
   "source": [
    "from sklearn import preprocessing\n",
    "le=preprocessing.LabelEncoder()\n",
    "df['GENDER']=le.fit_transform(df['GENDER'])\n",
    "df['LUNG_CANCER']=le.fit_transform(df['LUNG_CANCER'])\n",
    "df['SMOKING']=le.fit_transform(df['SMOKING'])\n",
    "df['YELLOW_FINGERS']=le.fit_transform(df['YELLOW_FINGERS'])\n",
    "df['ANXIETY']=le.fit_transform(df['ANXIETY'])\n",
    "df['PEER_PRESSURE']=le.fit_transform(df['PEER_PRESSURE'])\n",
    "df['CHRONIC DISEASE']=le.fit_transform(df['CHRONIC DISEASE'])\n",
    "df['FATIGUE ']=le.fit_transform(df['FATIGUE '])\n",
    "df['ALLERGY ']=le.fit_transform(df['ALLERGY '])\n",
    "df['WHEEZING']=le.fit_transform(df['WHEEZING'])\n",
    "df['ALCOHOL CONSUMING']=le.fit_transform(df['ALCOHOL CONSUMING'])\n",
    "df['COUGHING']=le.fit_transform(df['COUGHING'])\n",
    "df['SHORTNESS OF BREATH']=le.fit_transform(df['SHORTNESS OF BREATH'])\n",
    "df['SWALLOWING DIFFICULTY']=le.fit_transform(df['SWALLOWING DIFFICULTY'])\n",
    "df['CHEST PAIN']=le.fit_transform(df['CHEST PAIN'])\n",
    "df['LUNG_CANCER']=le.fit_transform(df['LUNG_CANCER'])"
   ]
  },
  {
   "cell_type": "code",
   "execution_count": 79,
   "metadata": {
    "execution": {
     "iopub.execute_input": "2023-03-04T12:01:05.621171Z",
     "iopub.status.busy": "2023-03-04T12:01:05.620691Z",
     "iopub.status.idle": "2023-03-04T12:01:05.643330Z",
     "shell.execute_reply": "2023-03-04T12:01:05.641989Z",
     "shell.execute_reply.started": "2023-03-04T12:01:05.621098Z"
    }
   },
   "outputs": [
    {
     "data": {
      "text/html": [
       "<div>\n",
       "<style scoped>\n",
       "    .dataframe tbody tr th:only-of-type {\n",
       "        vertical-align: middle;\n",
       "    }\n",
       "\n",
       "    .dataframe tbody tr th {\n",
       "        vertical-align: top;\n",
       "    }\n",
       "\n",
       "    .dataframe thead th {\n",
       "        text-align: right;\n",
       "    }\n",
       "</style>\n",
       "<table border=\"1\" class=\"dataframe\">\n",
       "  <thead>\n",
       "    <tr style=\"text-align: right;\">\n",
       "      <th></th>\n",
       "      <th>GENDER</th>\n",
       "      <th>AGE</th>\n",
       "      <th>SMOKING</th>\n",
       "      <th>YELLOW_FINGERS</th>\n",
       "      <th>ANXIETY</th>\n",
       "      <th>PEER_PRESSURE</th>\n",
       "      <th>CHRONIC DISEASE</th>\n",
       "      <th>FATIGUE</th>\n",
       "      <th>ALLERGY</th>\n",
       "      <th>WHEEZING</th>\n",
       "      <th>ALCOHOL CONSUMING</th>\n",
       "      <th>COUGHING</th>\n",
       "      <th>SHORTNESS OF BREATH</th>\n",
       "      <th>SWALLOWING DIFFICULTY</th>\n",
       "      <th>CHEST PAIN</th>\n",
       "      <th>LUNG_CANCER</th>\n",
       "    </tr>\n",
       "  </thead>\n",
       "  <tbody>\n",
       "    <tr>\n",
       "      <th>0</th>\n",
       "      <td>1</td>\n",
       "      <td>69</td>\n",
       "      <td>0</td>\n",
       "      <td>1</td>\n",
       "      <td>1</td>\n",
       "      <td>0</td>\n",
       "      <td>0</td>\n",
       "      <td>1</td>\n",
       "      <td>0</td>\n",
       "      <td>1</td>\n",
       "      <td>1</td>\n",
       "      <td>1</td>\n",
       "      <td>1</td>\n",
       "      <td>1</td>\n",
       "      <td>1</td>\n",
       "      <td>1</td>\n",
       "    </tr>\n",
       "    <tr>\n",
       "      <th>1</th>\n",
       "      <td>1</td>\n",
       "      <td>74</td>\n",
       "      <td>1</td>\n",
       "      <td>0</td>\n",
       "      <td>0</td>\n",
       "      <td>0</td>\n",
       "      <td>1</td>\n",
       "      <td>1</td>\n",
       "      <td>1</td>\n",
       "      <td>0</td>\n",
       "      <td>0</td>\n",
       "      <td>0</td>\n",
       "      <td>1</td>\n",
       "      <td>1</td>\n",
       "      <td>1</td>\n",
       "      <td>1</td>\n",
       "    </tr>\n",
       "    <tr>\n",
       "      <th>2</th>\n",
       "      <td>0</td>\n",
       "      <td>59</td>\n",
       "      <td>0</td>\n",
       "      <td>0</td>\n",
       "      <td>0</td>\n",
       "      <td>1</td>\n",
       "      <td>0</td>\n",
       "      <td>1</td>\n",
       "      <td>0</td>\n",
       "      <td>1</td>\n",
       "      <td>0</td>\n",
       "      <td>1</td>\n",
       "      <td>1</td>\n",
       "      <td>0</td>\n",
       "      <td>1</td>\n",
       "      <td>0</td>\n",
       "    </tr>\n",
       "    <tr>\n",
       "      <th>3</th>\n",
       "      <td>1</td>\n",
       "      <td>63</td>\n",
       "      <td>1</td>\n",
       "      <td>1</td>\n",
       "      <td>1</td>\n",
       "      <td>0</td>\n",
       "      <td>0</td>\n",
       "      <td>0</td>\n",
       "      <td>0</td>\n",
       "      <td>0</td>\n",
       "      <td>1</td>\n",
       "      <td>0</td>\n",
       "      <td>0</td>\n",
       "      <td>1</td>\n",
       "      <td>1</td>\n",
       "      <td>0</td>\n",
       "    </tr>\n",
       "    <tr>\n",
       "      <th>4</th>\n",
       "      <td>0</td>\n",
       "      <td>63</td>\n",
       "      <td>0</td>\n",
       "      <td>1</td>\n",
       "      <td>0</td>\n",
       "      <td>0</td>\n",
       "      <td>0</td>\n",
       "      <td>0</td>\n",
       "      <td>0</td>\n",
       "      <td>1</td>\n",
       "      <td>0</td>\n",
       "      <td>1</td>\n",
       "      <td>1</td>\n",
       "      <td>0</td>\n",
       "      <td>0</td>\n",
       "      <td>0</td>\n",
       "    </tr>\n",
       "    <tr>\n",
       "      <th>...</th>\n",
       "      <td>...</td>\n",
       "      <td>...</td>\n",
       "      <td>...</td>\n",
       "      <td>...</td>\n",
       "      <td>...</td>\n",
       "      <td>...</td>\n",
       "      <td>...</td>\n",
       "      <td>...</td>\n",
       "      <td>...</td>\n",
       "      <td>...</td>\n",
       "      <td>...</td>\n",
       "      <td>...</td>\n",
       "      <td>...</td>\n",
       "      <td>...</td>\n",
       "      <td>...</td>\n",
       "      <td>...</td>\n",
       "    </tr>\n",
       "    <tr>\n",
       "      <th>279</th>\n",
       "      <td>0</td>\n",
       "      <td>59</td>\n",
       "      <td>0</td>\n",
       "      <td>1</td>\n",
       "      <td>1</td>\n",
       "      <td>1</td>\n",
       "      <td>0</td>\n",
       "      <td>0</td>\n",
       "      <td>1</td>\n",
       "      <td>1</td>\n",
       "      <td>0</td>\n",
       "      <td>1</td>\n",
       "      <td>0</td>\n",
       "      <td>1</td>\n",
       "      <td>0</td>\n",
       "      <td>1</td>\n",
       "    </tr>\n",
       "    <tr>\n",
       "      <th>280</th>\n",
       "      <td>0</td>\n",
       "      <td>59</td>\n",
       "      <td>1</td>\n",
       "      <td>0</td>\n",
       "      <td>0</td>\n",
       "      <td>0</td>\n",
       "      <td>1</td>\n",
       "      <td>1</td>\n",
       "      <td>1</td>\n",
       "      <td>0</td>\n",
       "      <td>0</td>\n",
       "      <td>0</td>\n",
       "      <td>1</td>\n",
       "      <td>0</td>\n",
       "      <td>0</td>\n",
       "      <td>0</td>\n",
       "    </tr>\n",
       "    <tr>\n",
       "      <th>281</th>\n",
       "      <td>1</td>\n",
       "      <td>55</td>\n",
       "      <td>1</td>\n",
       "      <td>0</td>\n",
       "      <td>0</td>\n",
       "      <td>0</td>\n",
       "      <td>0</td>\n",
       "      <td>1</td>\n",
       "      <td>1</td>\n",
       "      <td>0</td>\n",
       "      <td>0</td>\n",
       "      <td>0</td>\n",
       "      <td>1</td>\n",
       "      <td>0</td>\n",
       "      <td>1</td>\n",
       "      <td>0</td>\n",
       "    </tr>\n",
       "    <tr>\n",
       "      <th>282</th>\n",
       "      <td>1</td>\n",
       "      <td>46</td>\n",
       "      <td>0</td>\n",
       "      <td>1</td>\n",
       "      <td>1</td>\n",
       "      <td>0</td>\n",
       "      <td>0</td>\n",
       "      <td>0</td>\n",
       "      <td>0</td>\n",
       "      <td>0</td>\n",
       "      <td>0</td>\n",
       "      <td>0</td>\n",
       "      <td>0</td>\n",
       "      <td>1</td>\n",
       "      <td>1</td>\n",
       "      <td>0</td>\n",
       "    </tr>\n",
       "    <tr>\n",
       "      <th>283</th>\n",
       "      <td>1</td>\n",
       "      <td>60</td>\n",
       "      <td>0</td>\n",
       "      <td>1</td>\n",
       "      <td>1</td>\n",
       "      <td>0</td>\n",
       "      <td>0</td>\n",
       "      <td>1</td>\n",
       "      <td>0</td>\n",
       "      <td>1</td>\n",
       "      <td>1</td>\n",
       "      <td>1</td>\n",
       "      <td>1</td>\n",
       "      <td>1</td>\n",
       "      <td>1</td>\n",
       "      <td>1</td>\n",
       "    </tr>\n",
       "  </tbody>\n",
       "</table>\n",
       "<p>276 rows × 16 columns</p>\n",
       "</div>"
      ],
      "text/plain": [
       "     GENDER  AGE  SMOKING  YELLOW_FINGERS  ANXIETY  PEER_PRESSURE  \\\n",
       "0         1   69        0               1        1              0   \n",
       "1         1   74        1               0        0              0   \n",
       "2         0   59        0               0        0              1   \n",
       "3         1   63        1               1        1              0   \n",
       "4         0   63        0               1        0              0   \n",
       "..      ...  ...      ...             ...      ...            ...   \n",
       "279       0   59        0               1        1              1   \n",
       "280       0   59        1               0        0              0   \n",
       "281       1   55        1               0        0              0   \n",
       "282       1   46        0               1        1              0   \n",
       "283       1   60        0               1        1              0   \n",
       "\n",
       "     CHRONIC DISEASE  FATIGUE   ALLERGY   WHEEZING  ALCOHOL CONSUMING  \\\n",
       "0                  0         1         0         1                  1   \n",
       "1                  1         1         1         0                  0   \n",
       "2                  0         1         0         1                  0   \n",
       "3                  0         0         0         0                  1   \n",
       "4                  0         0         0         1                  0   \n",
       "..               ...       ...       ...       ...                ...   \n",
       "279                0         0         1         1                  0   \n",
       "280                1         1         1         0                  0   \n",
       "281                0         1         1         0                  0   \n",
       "282                0         0         0         0                  0   \n",
       "283                0         1         0         1                  1   \n",
       "\n",
       "     COUGHING  SHORTNESS OF BREATH  SWALLOWING DIFFICULTY  CHEST PAIN  \\\n",
       "0           1                    1                      1           1   \n",
       "1           0                    1                      1           1   \n",
       "2           1                    1                      0           1   \n",
       "3           0                    0                      1           1   \n",
       "4           1                    1                      0           0   \n",
       "..        ...                  ...                    ...         ...   \n",
       "279         1                    0                      1           0   \n",
       "280         0                    1                      0           0   \n",
       "281         0                    1                      0           1   \n",
       "282         0                    0                      1           1   \n",
       "283         1                    1                      1           1   \n",
       "\n",
       "     LUNG_CANCER  \n",
       "0              1  \n",
       "1              1  \n",
       "2              0  \n",
       "3              0  \n",
       "4              0  \n",
       "..           ...  \n",
       "279            1  \n",
       "280            0  \n",
       "281            0  \n",
       "282            0  \n",
       "283            1  \n",
       "\n",
       "[276 rows x 16 columns]"
      ]
     },
     "execution_count": 79,
     "metadata": {},
     "output_type": "execute_result"
    }
   ],
   "source": [
    "#Let's check what's happened now\n",
    "df"
   ]
  },
  {
   "cell_type": "markdown",
   "metadata": {},
   "source": [
    "**Note: Male=1 & Female=0. Also for other variables, YES=1 & NO=0**"
   ]
  },
  {
   "cell_type": "code",
   "execution_count": 80,
   "metadata": {
    "execution": {
     "iopub.execute_input": "2023-03-04T12:01:05.649567Z",
     "iopub.status.busy": "2023-03-04T12:01:05.649033Z",
     "iopub.status.idle": "2023-03-04T12:01:05.665447Z",
     "shell.execute_reply": "2023-03-04T12:01:05.664220Z",
     "shell.execute_reply.started": "2023-03-04T12:01:05.649517Z"
    }
   },
   "outputs": [
    {
     "name": "stdout",
     "output_type": "stream",
     "text": [
      "<class 'pandas.core.frame.DataFrame'>\n",
      "Int64Index: 276 entries, 0 to 283\n",
      "Data columns (total 16 columns):\n",
      " #   Column                 Non-Null Count  Dtype\n",
      "---  ------                 --------------  -----\n",
      " 0   GENDER                 276 non-null    int64\n",
      " 1   AGE                    276 non-null    int64\n",
      " 2   SMOKING                276 non-null    int64\n",
      " 3   YELLOW_FINGERS         276 non-null    int64\n",
      " 4   ANXIETY                276 non-null    int64\n",
      " 5   PEER_PRESSURE          276 non-null    int64\n",
      " 6   CHRONIC DISEASE        276 non-null    int64\n",
      " 7   FATIGUE                276 non-null    int64\n",
      " 8   ALLERGY                276 non-null    int64\n",
      " 9   WHEEZING               276 non-null    int64\n",
      " 10  ALCOHOL CONSUMING      276 non-null    int64\n",
      " 11  COUGHING               276 non-null    int64\n",
      " 12  SHORTNESS OF BREATH    276 non-null    int64\n",
      " 13  SWALLOWING DIFFICULTY  276 non-null    int64\n",
      " 14  CHEST PAIN             276 non-null    int64\n",
      " 15  LUNG_CANCER            276 non-null    int64\n",
      "dtypes: int64(16)\n",
      "memory usage: 36.7 KB\n"
     ]
    }
   ],
   "source": [
    "df.info()"
   ]
  },
  {
   "cell_type": "code",
   "execution_count": 81,
   "metadata": {
    "execution": {
     "iopub.execute_input": "2023-03-04T12:01:05.667202Z",
     "iopub.status.busy": "2023-03-04T12:01:05.666797Z",
     "iopub.status.idle": "2023-03-04T12:01:05.857091Z",
     "shell.execute_reply": "2023-03-04T12:01:05.855884Z",
     "shell.execute_reply.started": "2023-03-04T12:01:05.667164Z"
    }
   },
   "outputs": [
    {
     "data": {
      "image/png": "[encoded data removed]",
      "text/plain": [
       "<Figure size 432x288 with 1 Axes>"
      ]
     },
     "metadata": {
      "needs_background": "light"
     },
     "output_type": "display_data"
    }
   ],
   "source": [
    "#Let's check the distributaion of Target variable.\n",
    "sns.countplot(x='LUNG_CANCER', data=df,)\n",
    "plt.title('Target Distribution');"
   ]
  },
  {
   "cell_type": "markdown",
   "metadata": {},
   "source": [
    "# ***That is, Target Distribution is imbalanced.***"
   ]
  },
  {
   "cell_type": "code",
   "execution_count": 82,
   "metadata": {
    "execution": {
     "iopub.execute_input": "2023-03-04T12:01:05.859096Z",
     "iopub.status.busy": "2023-03-04T12:01:05.858652Z",
     "iopub.status.idle": "2023-03-04T12:01:05.867958Z",
     "shell.execute_reply": "2023-03-04T12:01:05.866658Z",
     "shell.execute_reply.started": "2023-03-04T12:01:05.859064Z"
    }
   },
   "outputs": [
    {
     "data": {
      "text/plain": [
       "1    238\n",
       "0     38\n",
       "Name: LUNG_CANCER, dtype: int64"
      ]
     },
     "execution_count": 82,
     "metadata": {},
     "output_type": "execute_result"
    }
   ],
   "source": [
    "df['LUNG_CANCER'].value_counts()"
   ]
  },
  {
   "cell_type": "markdown",
   "metadata": {},
   "source": [
    "***We will handle this imbalance before applyig algorithm.***"
   ]
  },
  {
   "cell_type": "markdown",
   "metadata": {},
   "source": []
  },
  {
   "cell_type": "markdown",
   "metadata": {},
   "source": [
    "**Now let's do some Data Visualizations for the better understanding of how the independent features are related to the target variable..**"
   ]
  },
  {
   "cell_type": "code",
   "execution_count": 83,
   "metadata": {
    "execution": {
     "iopub.execute_input": "2023-03-04T12:01:05.870046Z",
     "iopub.status.busy": "2023-03-04T12:01:05.869574Z",
     "iopub.status.idle": "2023-03-04T12:01:05.878282Z",
     "shell.execute_reply": "2023-03-04T12:01:05.877104Z",
     "shell.execute_reply.started": "2023-03-04T12:01:05.869991Z"
    }
   },
   "outputs": [],
   "source": [
    "# function for plotting\n",
    "def plot(col, df=df):\n",
    "    return df.groupby(col)['LUNG_CANCER'].value_counts(normalize=True).unstack().plot(kind='bar', figsize=(8,5))"
   ]
  },
  {
   "cell_type": "code",
   "execution_count": 84,
   "metadata": {
    "execution": {
     "iopub.execute_input": "2023-03-04T12:01:05.881801Z",
     "iopub.status.busy": "2023-03-04T12:01:05.881362Z",
     "iopub.status.idle": "2023-03-04T12:01:06.089905Z",
     "shell.execute_reply": "2023-03-04T12:01:06.088714Z",
     "shell.execute_reply.started": "2023-03-04T12:01:05.881766Z"
    }
   },
   "outputs": [
    {
     "data": {
      "text/plain": [
       "<AxesSubplot:xlabel='GENDER'>"
      ]
     },
     "execution_count": 84,
     "metadata": {},
     "output_type": "execute_result"
    },
    {
     "data": {
      "image/png": "[encoded data removed]",
      "text/plain": [
       "<Figure size 576x360 with 1 Axes>"
      ]
     },
     "metadata": {
      "needs_background": "light"
     },
     "output_type": "display_data"
    }
   ],
   "source": [
    "plot('GENDER')"
   ]
  },
  {
   "cell_type": "code",
   "execution_count": 85,
   "metadata": {
    "execution": {
     "iopub.execute_input": "2023-03-04T12:01:06.092708Z",
     "iopub.status.busy": "2023-03-04T12:01:06.091517Z",
     "iopub.status.idle": "2023-03-04T12:01:06.607102Z",
     "shell.execute_reply": "2023-03-04T12:01:06.605980Z",
     "shell.execute_reply.started": "2023-03-04T12:01:06.092649Z"
    }
   },
   "outputs": [
    {
     "data": {
      "text/plain": [
       "<AxesSubplot:xlabel='AGE'>"
      ]
     },
     "execution_count": 85,
     "metadata": {},
     "output_type": "execute_result"
    },
    {
     "data": {
      "image/png": "[encoded data removed]",
      "text/plain": [
       "<Figure size 576x360 with 1 Axes>"
      ]
     },
     "metadata": {
      "needs_background": "light"
     },
     "output_type": "display_data"
    }
   ],
   "source": [
    "plot('AGE')"
   ]
  },
  {
   "cell_type": "code",
   "execution_count": 86,
   "metadata": {
    "execution": {
     "iopub.execute_input": "2023-03-04T12:01:06.608763Z",
     "iopub.status.busy": "2023-03-04T12:01:06.608416Z",
     "iopub.status.idle": "2023-03-04T12:01:06.814373Z",
     "shell.execute_reply": "2023-03-04T12:01:06.813064Z",
     "shell.execute_reply.started": "2023-03-04T12:01:06.608724Z"
    }
   },
   "outputs": [
    {
     "data": {
      "text/plain": [
       "<AxesSubplot:xlabel='SMOKING'>"
      ]
     },
     "execution_count": 86,
     "metadata": {},
     "output_type": "execute_result"
    },
    {
     "data": {
      "image/png": "[encoded data removed]",
      "text/plain": [
       "<Figure size 576x360 with 1 Axes>"
      ]
     },
     "metadata": {
      "needs_background": "light"
     },
     "output_type": "display_data"
    }
   ],
   "source": [
    "plot('SMOKING')"
   ]
  },
  {
   "cell_type": "code",
   "execution_count": 87,
   "metadata": {
    "execution": {
     "iopub.execute_input": "2023-03-04T12:01:06.816113Z",
     "iopub.status.busy": "2023-03-04T12:01:06.815727Z",
     "iopub.status.idle": "2023-03-04T12:01:07.032270Z",
     "shell.execute_reply": "2023-03-04T12:01:07.030955Z",
     "shell.execute_reply.started": "2023-03-04T12:01:06.816080Z"
    }
   },
   "outputs": [
    {
     "data": {
      "text/plain": [
       "<AxesSubplot:xlabel='YELLOW_FINGERS'>"
      ]
     },
     "execution_count": 87,
     "metadata": {},
     "output_type": "execute_result"
    },
    {
     "data": {
      "image/png": "[encoded data removed]",
      "text/plain": [
       "<Figure size 576x360 with 1 Axes>"
      ]
     },
     "metadata": {
      "needs_background": "light"
     },
     "output_type": "display_data"
    }
   ],
   "source": [
    "plot('YELLOW_FINGERS')"
   ]
  },
  {
   "cell_type": "code",
   "execution_count": 88,
   "metadata": {
    "execution": {
     "iopub.execute_input": "2023-03-04T12:01:07.034741Z",
     "iopub.status.busy": "2023-03-04T12:01:07.033866Z",
     "iopub.status.idle": "2023-03-04T12:01:07.245804Z",
     "shell.execute_reply": "2023-03-04T12:01:07.244519Z",
     "shell.execute_reply.started": "2023-03-04T12:01:07.034705Z"
    }
   },
   "outputs": [
    {
     "data": {
      "text/plain": [
       "<AxesSubplot:xlabel='ANXIETY'>"
      ]
     },
     "execution_count": 88,
     "metadata": {},
     "output_type": "execute_result"
    },
    {
     "data": {
      "image/png": "[encoded data removed]",
      "text/plain": [
       "<Figure size 576x360 with 1 Axes>"
      ]
     },
     "metadata": {
      "needs_background": "light"
     },
     "output_type": "display_data"
    }
   ],
   "source": [
    "plot('ANXIETY')"
   ]
  },
  {
   "cell_type": "code",
   "execution_count": 89,
   "metadata": {
    "execution": {
     "iopub.execute_input": "2023-03-04T12:01:07.247587Z",
     "iopub.status.busy": "2023-03-04T12:01:07.247248Z",
     "iopub.status.idle": "2023-03-04T12:01:07.453175Z",
     "shell.execute_reply": "2023-03-04T12:01:07.452300Z",
     "shell.execute_reply.started": "2023-03-04T12:01:07.247557Z"
    }
   },
   "outputs": [
    {
     "data": {
      "text/plain": [
       "<AxesSubplot:xlabel='PEER_PRESSURE'>"
      ]
     },
     "execution_count": 89,
     "metadata": {},
     "output_type": "execute_result"
    },
    {
     "data": {
      "image/png": "[encoded data removed]",
      "text/plain": [
       "<Figure size 576x360 with 1 Axes>"
      ]
     },
     "metadata": {
      "needs_background": "light"
     },
     "output_type": "display_data"
    }
   ],
   "source": [
    "plot('PEER_PRESSURE')"
   ]
  },
  {
   "cell_type": "code",
   "execution_count": 90,
   "metadata": {
    "execution": {
     "iopub.execute_input": "2023-03-04T12:01:07.455036Z",
     "iopub.status.busy": "2023-03-04T12:01:07.454421Z",
     "iopub.status.idle": "2023-03-04T12:01:07.660010Z",
     "shell.execute_reply": "2023-03-04T12:01:07.658725Z",
     "shell.execute_reply.started": "2023-03-04T12:01:07.455006Z"
    }
   },
   "outputs": [
    {
     "data": {
      "text/plain": [
       "<AxesSubplot:xlabel='CHRONIC DISEASE'>"
      ]
     },
     "execution_count": 90,
     "metadata": {},
     "output_type": "execute_result"
    },
    {
     "data": {
      "image/png": "[encoded data removed]",
      "text/plain": [
       "<Figure size 576x360 with 1 Axes>"
      ]
     },
     "metadata": {
      "needs_background": "light"
     },
     "output_type": "display_data"
    }
   ],
   "source": [
    "plot('CHRONIC DISEASE')"
   ]
  },
  {
   "cell_type": "code",
   "execution_count": 91,
   "metadata": {
    "execution": {
     "iopub.execute_input": "2023-03-04T12:01:07.662056Z",
     "iopub.status.busy": "2023-03-04T12:01:07.661609Z",
     "iopub.status.idle": "2023-03-04T12:01:07.870201Z",
     "shell.execute_reply": "2023-03-04T12:01:07.869334Z",
     "shell.execute_reply.started": "2023-03-04T12:01:07.662017Z"
    }
   },
   "outputs": [
    {
     "data": {
      "text/plain": [
       "<AxesSubplot:xlabel='FATIGUE '>"
      ]
     },
     "execution_count": 91,
     "metadata": {},
     "output_type": "execute_result"
    },
    {
     "data": {
      "image/png": "[encoded data removed]",
      "text/plain": [
       "<Figure size 576x360 with 1 Axes>"
      ]
     },
     "metadata": {
      "needs_background": "light"
     },
     "output_type": "display_data"
    }
   ],
   "source": [
    "plot('FATIGUE ')"
   ]
  },
  {
   "cell_type": "code",
   "execution_count": 92,
   "metadata": {
    "execution": {
     "iopub.execute_input": "2023-03-04T12:01:07.872394Z",
     "iopub.status.busy": "2023-03-04T12:01:07.871896Z",
     "iopub.status.idle": "2023-03-04T12:01:08.085818Z",
     "shell.execute_reply": "2023-03-04T12:01:08.084459Z",
     "shell.execute_reply.started": "2023-03-04T12:01:07.872347Z"
    }
   },
   "outputs": [
    {
     "data": {
      "text/plain": [
       "<AxesSubplot:xlabel='ALLERGY '>"
      ]
     },
     "execution_count": 92,
     "metadata": {},
     "output_type": "execute_result"
    },
    {
     "data": {
      "image/png": "[encoded data removed]",
      "text/plain": [
       "<Figure size 576x360 with 1 Axes>"
      ]
     },
     "metadata": {
      "needs_background": "light"
     },
     "output_type": "display_data"
    }
   ],
   "source": [
    "plot('ALLERGY ')"
   ]
  },
  {
   "cell_type": "code",
   "execution_count": 93,
   "metadata": {
    "execution": {
     "iopub.execute_input": "2023-03-04T12:01:08.088097Z",
     "iopub.status.busy": "2023-03-04T12:01:08.087412Z",
     "iopub.status.idle": "2023-03-04T12:01:08.294012Z",
     "shell.execute_reply": "2023-03-04T12:01:08.292913Z",
     "shell.execute_reply.started": "2023-03-04T12:01:08.088062Z"
    }
   },
   "outputs": [
    {
     "data": {
      "text/plain": [
       "<AxesSubplot:xlabel='WHEEZING'>"
      ]
     },
     "execution_count": 93,
     "metadata": {},
     "output_type": "execute_result"
    },
    {
     "data": {
      "image/png": "[encoded data removed]",
      "text/plain": [
       "<Figure size 576x360 with 1 Axes>"
      ]
     },
     "metadata": {
      "needs_background": "light"
     },
     "output_type": "display_data"
    }
   ],
   "source": [
    "plot('WHEEZING')"
   ]
  },
  {
   "cell_type": "code",
   "execution_count": 94,
   "metadata": {
    "execution": {
     "iopub.execute_input": "2023-03-04T12:01:08.296096Z",
     "iopub.status.busy": "2023-03-04T12:01:08.295618Z",
     "iopub.status.idle": "2023-03-04T12:01:08.506000Z",
     "shell.execute_reply": "2023-03-04T12:01:08.504875Z",
     "shell.execute_reply.started": "2023-03-04T12:01:08.296063Z"
    }
   },
   "outputs": [
    {
     "data": {
      "text/plain": [
       "<AxesSubplot:xlabel='ALCOHOL CONSUMING'>"
      ]
     },
     "execution_count": 94,
     "metadata": {},
     "output_type": "execute_result"
    },
    {
     "data": {
      "image/png": "[encoded data removed]",
      "text/plain": [
       "<Figure size 576x360 with 1 Axes>"
      ]
     },
     "metadata": {
      "needs_background": "light"
     },
     "output_type": "display_data"
    }
   ],
   "source": [
    "plot('ALCOHOL CONSUMING')"
   ]
  },
  {
   "cell_type": "code",
   "execution_count": 95,
   "metadata": {
    "execution": {
     "iopub.execute_input": "2023-03-04T12:01:08.508126Z",
     "iopub.status.busy": "2023-03-04T12:01:08.507653Z",
     "iopub.status.idle": "2023-03-04T12:01:08.717439Z",
     "shell.execute_reply": "2023-03-04T12:01:08.716356Z",
     "shell.execute_reply.started": "2023-03-04T12:01:08.508081Z"
    }
   },
   "outputs": [
    {
     "data": {
      "text/plain": [
       "<AxesSubplot:xlabel='COUGHING'>"
      ]
     },
     "execution_count": 95,
     "metadata": {},
     "output_type": "execute_result"
    },
    {
     "data": {
      "image/png": "[encoded data removed]",
      "text/plain": [
       "<Figure size 576x360 with 1 Axes>"
      ]
     },
     "metadata": {
      "needs_background": "light"
     },
     "output_type": "display_data"
    }
   ],
   "source": [
    "plot('COUGHING')"
   ]
  },
  {
   "cell_type": "code",
   "execution_count": 96,
   "metadata": {
    "execution": {
     "iopub.execute_input": "2023-03-04T12:01:08.720274Z",
     "iopub.status.busy": "2023-03-04T12:01:08.718781Z",
     "iopub.status.idle": "2023-03-04T12:01:08.936699Z",
     "shell.execute_reply": "2023-03-04T12:01:08.935481Z",
     "shell.execute_reply.started": "2023-03-04T12:01:08.720223Z"
    }
   },
   "outputs": [
    {
     "data": {
      "text/plain": [
       "<AxesSubplot:xlabel='SHORTNESS OF BREATH'>"
      ]
     },
     "execution_count": 96,
     "metadata": {},
     "output_type": "execute_result"
    },
    {
     "data": {
      "image/png": "[encoded data removed]",
      "text/plain": [
       "<Figure size 576x360 with 1 Axes>"
      ]
     },
     "metadata": {
      "needs_background": "light"
     },
     "output_type": "display_data"
    }
   ],
   "source": [
    "plot('SHORTNESS OF BREATH')"
   ]
  },
  {
   "cell_type": "code",
   "execution_count": 97,
   "metadata": {
    "execution": {
     "iopub.execute_input": "2023-03-04T12:01:08.938492Z",
     "iopub.status.busy": "2023-03-04T12:01:08.938082Z",
     "iopub.status.idle": "2023-03-04T12:01:09.150418Z",
     "shell.execute_reply": "2023-03-04T12:01:09.149282Z",
     "shell.execute_reply.started": "2023-03-04T12:01:08.938459Z"
    }
   },
   "outputs": [
    {
     "data": {
      "text/plain": [
       "<AxesSubplot:xlabel='SWALLOWING DIFFICULTY'>"
      ]
     },
     "execution_count": 97,
     "metadata": {},
     "output_type": "execute_result"
    },
    {
     "data": {
      "image/png": "[encoded data removed]",
      "text/plain": [
       "<Figure size 576x360 with 1 Axes>"
      ]
     },
     "metadata": {
      "needs_background": "light"
     },
     "output_type": "display_data"
    }
   ],
   "source": [
    "plot('SWALLOWING DIFFICULTY')"
   ]
  },
  {
   "cell_type": "code",
   "execution_count": 98,
   "metadata": {
    "execution": {
     "iopub.execute_input": "2023-03-04T12:01:09.158098Z",
     "iopub.status.busy": "2023-03-04T12:01:09.157296Z",
     "iopub.status.idle": "2023-03-04T12:01:09.360019Z",
     "shell.execute_reply": "2023-03-04T12:01:09.359090Z",
     "shell.execute_reply.started": "2023-03-04T12:01:09.158061Z"
    }
   },
   "outputs": [
    {
     "data": {
      "text/plain": [
       "<AxesSubplot:xlabel='CHEST PAIN'>"
      ]
     },
     "execution_count": 98,
     "metadata": {},
     "output_type": "execute_result"
    },
    {
     "data": {
      "image/png": "[encoded data removed]",
      "text/plain": [
       "<Figure size 576x360 with 1 Axes>"
      ]
     },
     "metadata": {
      "needs_background": "light"
     },
     "output_type": "display_data"
    }
   ],
   "source": [
    "plot('CHEST PAIN')"
   ]
  },
  {
   "cell_type": "markdown",
   "metadata": {},
   "source": [
    "**From the visualizations, it is clear that in the given dataset, the features GENDER, AGE, SMOKING and SHORTNESS OF BREATH don't have that much relationship with LUNG CANCER. So let's drop those features to make this dataset more clean.**"
   ]
  },
  {
   "cell_type": "code",
   "execution_count": 99,
   "metadata": {
    "execution": {
     "iopub.execute_input": "2023-03-04T12:01:09.361970Z",
     "iopub.status.busy": "2023-03-04T12:01:09.361098Z",
     "iopub.status.idle": "2023-03-04T12:01:09.379744Z",
     "shell.execute_reply": "2023-03-04T12:01:09.378612Z",
     "shell.execute_reply.started": "2023-03-04T12:01:09.361930Z"
    }
   },
   "outputs": [
    {
     "data": {
      "text/html": [
       "<div>\n",
       "<style scoped>\n",
       "    .dataframe tbody tr th:only-of-type {\n",
       "        vertical-align: middle;\n",
       "    }\n",
       "\n",
       "    .dataframe tbody tr th {\n",
       "        vertical-align: top;\n",
       "    }\n",
       "\n",
       "    .dataframe thead th {\n",
       "        text-align: right;\n",
       "    }\n",
       "</style>\n",
       "<table border=\"1\" class=\"dataframe\">\n",
       "  <thead>\n",
       "    <tr style=\"text-align: right;\">\n",
       "      <th></th>\n",
       "      <th>YELLOW_FINGERS</th>\n",
       "      <th>ANXIETY</th>\n",
       "      <th>PEER_PRESSURE</th>\n",
       "      <th>CHRONIC DISEASE</th>\n",
       "      <th>FATIGUE</th>\n",
       "      <th>ALLERGY</th>\n",
       "      <th>WHEEZING</th>\n",
       "      <th>ALCOHOL CONSUMING</th>\n",
       "      <th>COUGHING</th>\n",
       "      <th>SWALLOWING DIFFICULTY</th>\n",
       "      <th>CHEST PAIN</th>\n",
       "      <th>LUNG_CANCER</th>\n",
       "    </tr>\n",
       "  </thead>\n",
       "  <tbody>\n",
       "    <tr>\n",
       "      <th>0</th>\n",
       "      <td>1</td>\n",
       "      <td>1</td>\n",
       "      <td>0</td>\n",
       "      <td>0</td>\n",
       "      <td>1</td>\n",
       "      <td>0</td>\n",
       "      <td>1</td>\n",
       "      <td>1</td>\n",
       "      <td>1</td>\n",
       "      <td>1</td>\n",
       "      <td>1</td>\n",
       "      <td>1</td>\n",
       "    </tr>\n",
       "    <tr>\n",
       "      <th>1</th>\n",
       "      <td>0</td>\n",
       "      <td>0</td>\n",
       "      <td>0</td>\n",
       "      <td>1</td>\n",
       "      <td>1</td>\n",
       "      <td>1</td>\n",
       "      <td>0</td>\n",
       "      <td>0</td>\n",
       "      <td>0</td>\n",
       "      <td>1</td>\n",
       "      <td>1</td>\n",
       "      <td>1</td>\n",
       "    </tr>\n",
       "    <tr>\n",
       "      <th>2</th>\n",
       "      <td>0</td>\n",
       "      <td>0</td>\n",
       "      <td>1</td>\n",
       "      <td>0</td>\n",
       "      <td>1</td>\n",
       "      <td>0</td>\n",
       "      <td>1</td>\n",
       "      <td>0</td>\n",
       "      <td>1</td>\n",
       "      <td>0</td>\n",
       "      <td>1</td>\n",
       "      <td>0</td>\n",
       "    </tr>\n",
       "    <tr>\n",
       "      <th>3</th>\n",
       "      <td>1</td>\n",
       "      <td>1</td>\n",
       "      <td>0</td>\n",
       "      <td>0</td>\n",
       "      <td>0</td>\n",
       "      <td>0</td>\n",
       "      <td>0</td>\n",
       "      <td>1</td>\n",
       "      <td>0</td>\n",
       "      <td>1</td>\n",
       "      <td>1</td>\n",
       "      <td>0</td>\n",
       "    </tr>\n",
       "    <tr>\n",
       "      <th>4</th>\n",
       "      <td>1</td>\n",
       "      <td>0</td>\n",
       "      <td>0</td>\n",
       "      <td>0</td>\n",
       "      <td>0</td>\n",
       "      <td>0</td>\n",
       "      <td>1</td>\n",
       "      <td>0</td>\n",
       "      <td>1</td>\n",
       "      <td>0</td>\n",
       "      <td>0</td>\n",
       "      <td>0</td>\n",
       "    </tr>\n",
       "    <tr>\n",
       "      <th>...</th>\n",
       "      <td>...</td>\n",
       "      <td>...</td>\n",
       "      <td>...</td>\n",
       "      <td>...</td>\n",
       "      <td>...</td>\n",
       "      <td>...</td>\n",
       "      <td>...</td>\n",
       "      <td>...</td>\n",
       "      <td>...</td>\n",
       "      <td>...</td>\n",
       "      <td>...</td>\n",
       "      <td>...</td>\n",
       "    </tr>\n",
       "    <tr>\n",
       "      <th>279</th>\n",
       "      <td>1</td>\n",
       "      <td>1</td>\n",
       "      <td>1</td>\n",
       "      <td>0</td>\n",
       "      <td>0</td>\n",
       "      <td>1</td>\n",
       "      <td>1</td>\n",
       "      <td>0</td>\n",
       "      <td>1</td>\n",
       "      <td>1</td>\n",
       "      <td>0</td>\n",
       "      <td>1</td>\n",
       "    </tr>\n",
       "    <tr>\n",
       "      <th>280</th>\n",
       "      <td>0</td>\n",
       "      <td>0</td>\n",
       "      <td>0</td>\n",
       "      <td>1</td>\n",
       "      <td>1</td>\n",
       "      <td>1</td>\n",
       "      <td>0</td>\n",
       "      <td>0</td>\n",
       "      <td>0</td>\n",
       "      <td>0</td>\n",
       "      <td>0</td>\n",
       "      <td>0</td>\n",
       "    </tr>\n",
       "    <tr>\n",
       "      <th>281</th>\n",
       "      <td>0</td>\n",
       "      <td>0</td>\n",
       "      <td>0</td>\n",
       "      <td>0</td>\n",
       "      <td>1</td>\n",
       "      <td>1</td>\n",
       "      <td>0</td>\n",
       "      <td>0</td>\n",
       "      <td>0</td>\n",
       "      <td>0</td>\n",
       "      <td>1</td>\n",
       "      <td>0</td>\n",
       "    </tr>\n",
       "    <tr>\n",
       "      <th>282</th>\n",
       "      <td>1</td>\n",
       "      <td>1</td>\n",
       "      <td>0</td>\n",
       "      <td>0</td>\n",
       "      <td>0</td>\n",
       "      <td>0</td>\n",
       "      <td>0</td>\n",
       "      <td>0</td>\n",
       "      <td>0</td>\n",
       "      <td>1</td>\n",
       "      <td>1</td>\n",
       "      <td>0</td>\n",
       "    </tr>\n",
       "    <tr>\n",
       "      <th>283</th>\n",
       "      <td>1</td>\n",
       "      <td>1</td>\n",
       "      <td>0</td>\n",
       "      <td>0</td>\n",
       "      <td>1</td>\n",
       "      <td>0</td>\n",
       "      <td>1</td>\n",
       "      <td>1</td>\n",
       "      <td>1</td>\n",
       "      <td>1</td>\n",
       "      <td>1</td>\n",
       "      <td>1</td>\n",
       "    </tr>\n",
       "  </tbody>\n",
       "</table>\n",
       "<p>276 rows × 12 columns</p>\n",
       "</div>"
      ],
      "text/plain": [
       "     YELLOW_FINGERS  ANXIETY  PEER_PRESSURE  CHRONIC DISEASE  FATIGUE   \\\n",
       "0                 1        1              0                0         1   \n",
       "1                 0        0              0                1         1   \n",
       "2                 0        0              1                0         1   \n",
       "3                 1        1              0                0         0   \n",
       "4                 1        0              0                0         0   \n",
       "..              ...      ...            ...              ...       ...   \n",
       "279               1        1              1                0         0   \n",
       "280               0        0              0                1         1   \n",
       "281               0        0              0                0         1   \n",
       "282               1        1              0                0         0   \n",
       "283               1        1              0                0         1   \n",
       "\n",
       "     ALLERGY   WHEEZING  ALCOHOL CONSUMING  COUGHING  SWALLOWING DIFFICULTY  \\\n",
       "0           0         1                  1         1                      1   \n",
       "1           1         0                  0         0                      1   \n",
       "2           0         1                  0         1                      0   \n",
       "3           0         0                  1         0                      1   \n",
       "4           0         1                  0         1                      0   \n",
       "..        ...       ...                ...       ...                    ...   \n",
       "279         1         1                  0         1                      1   \n",
       "280         1         0                  0         0                      0   \n",
       "281         1         0                  0         0                      0   \n",
       "282         0         0                  0         0                      1   \n",
       "283         0         1                  1         1                      1   \n",
       "\n",
       "     CHEST PAIN  LUNG_CANCER  \n",
       "0             1            1  \n",
       "1             1            1  \n",
       "2             1            0  \n",
       "3             1            0  \n",
       "4             0            0  \n",
       "..          ...          ...  \n",
       "279           0            1  \n",
       "280           0            0  \n",
       "281           1            0  \n",
       "282           1            0  \n",
       "283           1            1  \n",
       "\n",
       "[276 rows x 12 columns]"
      ]
     },
     "execution_count": 99,
     "metadata": {},
     "output_type": "execute_result"
    }
   ],
   "source": [
    "df_new=df.drop(columns=['GENDER','AGE', 'SMOKING', 'SHORTNESS OF BREATH'])\n",
    "df_new"
   ]
  },
  {
   "cell_type": "markdown",
   "metadata": {},
   "source": [
    "**CORRELATION**"
   ]
  },
  {
   "cell_type": "code",
   "execution_count": 100,
   "metadata": {
    "execution": {
     "iopub.execute_input": "2023-03-04T12:01:09.381848Z",
     "iopub.status.busy": "2023-03-04T12:01:09.380910Z",
     "iopub.status.idle": "2023-03-04T12:01:09.410615Z",
     "shell.execute_reply": "2023-03-04T12:01:09.409355Z",
     "shell.execute_reply.started": "2023-03-04T12:01:09.381812Z"
    }
   },
   "outputs": [
    {
     "data": {
      "text/html": [
       "<div>\n",
       "<style scoped>\n",
       "    .dataframe tbody tr th:only-of-type {\n",
       "        vertical-align: middle;\n",
       "    }\n",
       "\n",
       "    .dataframe tbody tr th {\n",
       "        vertical-align: top;\n",
       "    }\n",
       "\n",
       "    .dataframe thead th {\n",
       "        text-align: right;\n",
       "    }\n",
       "</style>\n",
       "<table border=\"1\" class=\"dataframe\">\n",
       "  <thead>\n",
       "    <tr style=\"text-align: right;\">\n",
       "      <th></th>\n",
       "      <th>YELLOW_FINGERS</th>\n",
       "      <th>ANXIETY</th>\n",
       "      <th>PEER_PRESSURE</th>\n",
       "      <th>CHRONIC DISEASE</th>\n",
       "      <th>FATIGUE</th>\n",
       "      <th>ALLERGY</th>\n",
       "      <th>WHEEZING</th>\n",
       "      <th>ALCOHOL CONSUMING</th>\n",
       "      <th>COUGHING</th>\n",
       "      <th>SWALLOWING DIFFICULTY</th>\n",
       "      <th>CHEST PAIN</th>\n",
       "      <th>LUNG_CANCER</th>\n",
       "    </tr>\n",
       "  </thead>\n",
       "  <tbody>\n",
       "    <tr>\n",
       "      <th>YELLOW_FINGERS</th>\n",
       "      <td>1.000000</td>\n",
       "      <td>0.558344</td>\n",
       "      <td>0.313067</td>\n",
       "      <td>0.015316</td>\n",
       "      <td>-0.099644</td>\n",
       "      <td>-0.147130</td>\n",
       "      <td>-0.058756</td>\n",
       "      <td>-0.273643</td>\n",
       "      <td>0.020803</td>\n",
       "      <td>0.333349</td>\n",
       "      <td>-0.099169</td>\n",
       "      <td>0.189192</td>\n",
       "    </tr>\n",
       "    <tr>\n",
       "      <th>ANXIETY</th>\n",
       "      <td>0.558344</td>\n",
       "      <td>1.000000</td>\n",
       "      <td>0.210278</td>\n",
       "      <td>-0.006938</td>\n",
       "      <td>-0.181474</td>\n",
       "      <td>-0.159451</td>\n",
       "      <td>-0.174009</td>\n",
       "      <td>-0.152228</td>\n",
       "      <td>-0.218843</td>\n",
       "      <td>0.478820</td>\n",
       "      <td>-0.123182</td>\n",
       "      <td>0.144322</td>\n",
       "    </tr>\n",
       "    <tr>\n",
       "      <th>PEER_PRESSURE</th>\n",
       "      <td>0.313067</td>\n",
       "      <td>0.210278</td>\n",
       "      <td>1.000000</td>\n",
       "      <td>0.042893</td>\n",
       "      <td>0.094661</td>\n",
       "      <td>-0.066887</td>\n",
       "      <td>-0.037769</td>\n",
       "      <td>-0.132603</td>\n",
       "      <td>-0.068224</td>\n",
       "      <td>0.327764</td>\n",
       "      <td>-0.074655</td>\n",
       "      <td>0.195086</td>\n",
       "    </tr>\n",
       "    <tr>\n",
       "      <th>CHRONIC DISEASE</th>\n",
       "      <td>0.015316</td>\n",
       "      <td>-0.006938</td>\n",
       "      <td>0.042893</td>\n",
       "      <td>1.000000</td>\n",
       "      <td>-0.099411</td>\n",
       "      <td>0.134309</td>\n",
       "      <td>-0.040546</td>\n",
       "      <td>0.010144</td>\n",
       "      <td>-0.160813</td>\n",
       "      <td>0.068263</td>\n",
       "      <td>-0.048895</td>\n",
       "      <td>0.143692</td>\n",
       "    </tr>\n",
       "    <tr>\n",
       "      <th>FATIGUE</th>\n",
       "      <td>-0.099644</td>\n",
       "      <td>-0.181474</td>\n",
       "      <td>0.094661</td>\n",
       "      <td>-0.099411</td>\n",
       "      <td>1.000000</td>\n",
       "      <td>-0.001841</td>\n",
       "      <td>0.152151</td>\n",
       "      <td>-0.181573</td>\n",
       "      <td>0.148538</td>\n",
       "      <td>-0.115727</td>\n",
       "      <td>0.013757</td>\n",
       "      <td>0.160078</td>\n",
       "    </tr>\n",
       "    <tr>\n",
       "      <th>ALLERGY</th>\n",
       "      <td>-0.147130</td>\n",
       "      <td>-0.159451</td>\n",
       "      <td>-0.066887</td>\n",
       "      <td>0.134309</td>\n",
       "      <td>-0.001841</td>\n",
       "      <td>1.000000</td>\n",
       "      <td>0.166517</td>\n",
       "      <td>0.378125</td>\n",
       "      <td>0.206367</td>\n",
       "      <td>-0.037581</td>\n",
       "      <td>0.245440</td>\n",
       "      <td>0.333552</td>\n",
       "    </tr>\n",
       "    <tr>\n",
       "      <th>WHEEZING</th>\n",
       "      <td>-0.058756</td>\n",
       "      <td>-0.174009</td>\n",
       "      <td>-0.037769</td>\n",
       "      <td>-0.040546</td>\n",
       "      <td>0.152151</td>\n",
       "      <td>0.166517</td>\n",
       "      <td>1.000000</td>\n",
       "      <td>0.261061</td>\n",
       "      <td>0.353657</td>\n",
       "      <td>0.108304</td>\n",
       "      <td>0.142846</td>\n",
       "      <td>0.249054</td>\n",
       "    </tr>\n",
       "    <tr>\n",
       "      <th>ALCOHOL CONSUMING</th>\n",
       "      <td>-0.273643</td>\n",
       "      <td>-0.152228</td>\n",
       "      <td>-0.132603</td>\n",
       "      <td>0.010144</td>\n",
       "      <td>-0.181573</td>\n",
       "      <td>0.378125</td>\n",
       "      <td>0.261061</td>\n",
       "      <td>1.000000</td>\n",
       "      <td>0.198023</td>\n",
       "      <td>-0.000635</td>\n",
       "      <td>0.310767</td>\n",
       "      <td>0.294422</td>\n",
       "    </tr>\n",
       "    <tr>\n",
       "      <th>COUGHING</th>\n",
       "      <td>0.020803</td>\n",
       "      <td>-0.218843</td>\n",
       "      <td>-0.068224</td>\n",
       "      <td>-0.160813</td>\n",
       "      <td>0.148538</td>\n",
       "      <td>0.206367</td>\n",
       "      <td>0.353657</td>\n",
       "      <td>0.198023</td>\n",
       "      <td>1.000000</td>\n",
       "      <td>-0.136885</td>\n",
       "      <td>0.077988</td>\n",
       "      <td>0.253027</td>\n",
       "    </tr>\n",
       "    <tr>\n",
       "      <th>SWALLOWING DIFFICULTY</th>\n",
       "      <td>0.333349</td>\n",
       "      <td>0.478820</td>\n",
       "      <td>0.327764</td>\n",
       "      <td>0.068263</td>\n",
       "      <td>-0.115727</td>\n",
       "      <td>-0.037581</td>\n",
       "      <td>0.108304</td>\n",
       "      <td>-0.000635</td>\n",
       "      <td>-0.136885</td>\n",
       "      <td>1.000000</td>\n",
       "      <td>0.102674</td>\n",
       "      <td>0.268940</td>\n",
       "    </tr>\n",
       "    <tr>\n",
       "      <th>CHEST PAIN</th>\n",
       "      <td>-0.099169</td>\n",
       "      <td>-0.123182</td>\n",
       "      <td>-0.074655</td>\n",
       "      <td>-0.048895</td>\n",
       "      <td>0.013757</td>\n",
       "      <td>0.245440</td>\n",
       "      <td>0.142846</td>\n",
       "      <td>0.310767</td>\n",
       "      <td>0.077988</td>\n",
       "      <td>0.102674</td>\n",
       "      <td>1.000000</td>\n",
       "      <td>0.194856</td>\n",
       "    </tr>\n",
       "    <tr>\n",
       "      <th>LUNG_CANCER</th>\n",
       "      <td>0.189192</td>\n",
       "      <td>0.144322</td>\n",
       "      <td>0.195086</td>\n",
       "      <td>0.143692</td>\n",
       "      <td>0.160078</td>\n",
       "      <td>0.333552</td>\n",
       "      <td>0.249054</td>\n",
       "      <td>0.294422</td>\n",
       "      <td>0.253027</td>\n",
       "      <td>0.268940</td>\n",
       "      <td>0.194856</td>\n",
       "      <td>1.000000</td>\n",
       "    </tr>\n",
       "  </tbody>\n",
       "</table>\n",
       "</div>"
      ],
      "text/plain": [
       "                       YELLOW_FINGERS   ANXIETY  PEER_PRESSURE  \\\n",
       "YELLOW_FINGERS               1.000000  0.558344       0.313067   \n",
       "ANXIETY                      0.558344  1.000000       0.210278   \n",
       "PEER_PRESSURE                0.313067  0.210278       1.000000   \n",
       "CHRONIC DISEASE              0.015316 -0.006938       0.042893   \n",
       "FATIGUE                     -0.099644 -0.181474       0.094661   \n",
       "ALLERGY                     -0.147130 -0.159451      -0.066887   \n",
       "WHEEZING                    -0.058756 -0.174009      -0.037769   \n",
       "ALCOHOL CONSUMING           -0.273643 -0.152228      -0.132603   \n",
       "COUGHING                     0.020803 -0.218843      -0.068224   \n",
       "SWALLOWING DIFFICULTY        0.333349  0.478820       0.327764   \n",
       "CHEST PAIN                  -0.099169 -0.123182      -0.074655   \n",
       "LUNG_CANCER                  0.189192  0.144322       0.195086   \n",
       "\n",
       "                       CHRONIC DISEASE  FATIGUE   ALLERGY   WHEEZING  \\\n",
       "YELLOW_FINGERS                0.015316 -0.099644 -0.147130 -0.058756   \n",
       "ANXIETY                      -0.006938 -0.181474 -0.159451 -0.174009   \n",
       "PEER_PRESSURE                 0.042893  0.094661 -0.066887 -0.037769   \n",
       "CHRONIC DISEASE               1.000000 -0.099411  0.134309 -0.040546   \n",
       "FATIGUE                      -0.099411  1.000000 -0.001841  0.152151   \n",
       "ALLERGY                       0.134309 -0.001841  1.000000  0.166517   \n",
       "WHEEZING                     -0.040546  0.152151  0.166517  1.000000   \n",
       "ALCOHOL CONSUMING             0.010144 -0.181573  0.378125  0.261061   \n",
       "COUGHING                     -0.160813  0.148538  0.206367  0.353657   \n",
       "SWALLOWING DIFFICULTY         0.068263 -0.115727 -0.037581  0.108304   \n",
       "CHEST PAIN                   -0.048895  0.013757  0.245440  0.142846   \n",
       "LUNG_CANCER                   0.143692  0.160078  0.333552  0.249054   \n",
       "\n",
       "                       ALCOHOL CONSUMING  COUGHING  SWALLOWING DIFFICULTY  \\\n",
       "YELLOW_FINGERS                 -0.273643  0.020803               0.333349   \n",
       "ANXIETY                        -0.152228 -0.218843               0.478820   \n",
       "PEER_PRESSURE                  -0.132603 -0.068224               0.327764   \n",
       "CHRONIC DISEASE                 0.010144 -0.160813               0.068263   \n",
       "FATIGUE                        -0.181573  0.148538              -0.115727   \n",
       "ALLERGY                         0.378125  0.206367              -0.037581   \n",
       "WHEEZING                        0.261061  0.353657               0.108304   \n",
       "ALCOHOL CONSUMING               1.000000  0.198023              -0.000635   \n",
       "COUGHING                        0.198023  1.000000              -0.136885   \n",
       "SWALLOWING DIFFICULTY          -0.000635 -0.136885               1.000000   \n",
       "CHEST PAIN                      0.310767  0.077988               0.102674   \n",
       "LUNG_CANCER                     0.294422  0.253027               0.268940   \n",
       "\n",
       "                       CHEST PAIN  LUNG_CANCER  \n",
       "YELLOW_FINGERS          -0.099169     0.189192  \n",
       "ANXIETY                 -0.123182     0.144322  \n",
       "PEER_PRESSURE           -0.074655     0.195086  \n",
       "CHRONIC DISEASE         -0.048895     0.143692  \n",
       "FATIGUE                  0.013757     0.160078  \n",
       "ALLERGY                  0.245440     0.333552  \n",
       "WHEEZING                 0.142846     0.249054  \n",
       "ALCOHOL CONSUMING        0.310767     0.294422  \n",
       "COUGHING                 0.077988     0.253027  \n",
       "SWALLOWING DIFFICULTY    0.102674     0.268940  \n",
       "CHEST PAIN               1.000000     0.194856  \n",
       "LUNG_CANCER              0.194856     1.000000  "
      ]
     },
     "execution_count": 100,
     "metadata": {},
     "output_type": "execute_result"
    }
   ],
   "source": [
    "#Finding Correlation\n",
    "cn=df_new.corr()\n",
    "cn"
   ]
  },
  {
   "cell_type": "code",
   "execution_count": 101,
   "metadata": {
    "execution": {
     "iopub.execute_input": "2023-03-04T12:01:09.412779Z",
     "iopub.status.busy": "2023-03-04T12:01:09.412290Z",
     "iopub.status.idle": "2023-03-04T12:01:10.634352Z",
     "shell.execute_reply": "2023-03-04T12:01:10.633177Z",
     "shell.execute_reply.started": "2023-03-04T12:01:09.412747Z"
    }
   },
   "outputs": [
    {
     "data": {
      "image/png": "[encoded data removed]",
      "text/plain": [
       "<Figure size 1296x1296 with 2 Axes>"
      ]
     },
     "metadata": {
      "needs_background": "light"
     },
     "output_type": "display_data"
    }
   ],
   "source": [
    "#Correlation \n",
    "cmap=sns.diverging_palette(260,-10,s=50, l=75, n=6,\n",
    "as_cmap=True)\n",
    "plt.subplots(figsize=(18,18))\n",
    "sns.heatmap(cn,cmap=cmap,annot=True, square=True)\n",
    "plt.show()"
   ]
  },
  {
   "cell_type": "code",
   "execution_count": 102,
   "metadata": {
    "execution": {
     "iopub.execute_input": "2023-03-04T12:01:10.636279Z",
     "iopub.status.busy": "2023-03-04T12:01:10.635902Z",
     "iopub.status.idle": "2023-03-04T12:01:11.041166Z",
     "shell.execute_reply": "2023-03-04T12:01:11.039658Z",
     "shell.execute_reply.started": "2023-03-04T12:01:10.636246Z"
    }
   },
   "outputs": [
    {
     "data": {
      "text/plain": [
       "<AxesSubplot:>"
      ]
     },
     "execution_count": 102,
     "metadata": {},
     "output_type": "execute_result"
    },
    {
     "data": {
      "image/png": "[encoded data removed]",
      "text/plain": [
       "<Figure size 864x576 with 2 Axes>"
      ]
     },
     "metadata": {
      "needs_background": "light"
     },
     "output_type": "display_data"
    }
   ],
   "source": [
    "kot = cn[cn>=.40]\n",
    "plt.figure(figsize=(12,8))\n",
    "sns.heatmap(kot, cmap=\"Blues\")"
   ]
  },
  {
   "cell_type": "markdown",
   "metadata": {},
   "source": []
  },
  {
   "cell_type": "markdown",
   "metadata": {},
   "source": [
    "# ***Feature Engineering***"
   ]
  },
  {
   "cell_type": "markdown",
   "metadata": {},
   "source": [
    "Feature Engineering is the process of creating new features using existing features."
   ]
  },
  {
   "cell_type": "markdown",
   "metadata": {},
   "source": [
    "***The correlation matrix shows that ANXIETY and YELLOW_FINGERS are correlated more than 50%. So, lets create a new feature combining them.***"
   ]
  },
  {
   "cell_type": "code",
   "execution_count": 103,
   "metadata": {
    "execution": {
     "iopub.execute_input": "2023-03-04T12:01:11.043332Z",
     "iopub.status.busy": "2023-03-04T12:01:11.042902Z",
     "iopub.status.idle": "2023-03-04T12:01:11.064925Z",
     "shell.execute_reply": "2023-03-04T12:01:11.063390Z",
     "shell.execute_reply.started": "2023-03-04T12:01:11.043296Z"
    }
   },
   "outputs": [
    {
     "data": {
      "text/html": [
       "<div>\n",
       "<style scoped>\n",
       "    .dataframe tbody tr th:only-of-type {\n",
       "        vertical-align: middle;\n",
       "    }\n",
       "\n",
       "    .dataframe tbody tr th {\n",
       "        vertical-align: top;\n",
       "    }\n",
       "\n",
       "    .dataframe thead th {\n",
       "        text-align: right;\n",
       "    }\n",
       "</style>\n",
       "<table border=\"1\" class=\"dataframe\">\n",
       "  <thead>\n",
       "    <tr style=\"text-align: right;\">\n",
       "      <th></th>\n",
       "      <th>YELLOW_FINGERS</th>\n",
       "      <th>ANXIETY</th>\n",
       "      <th>PEER_PRESSURE</th>\n",
       "      <th>CHRONIC DISEASE</th>\n",
       "      <th>FATIGUE</th>\n",
       "      <th>ALLERGY</th>\n",
       "      <th>WHEEZING</th>\n",
       "      <th>ALCOHOL CONSUMING</th>\n",
       "      <th>COUGHING</th>\n",
       "      <th>SWALLOWING DIFFICULTY</th>\n",
       "      <th>CHEST PAIN</th>\n",
       "      <th>LUNG_CANCER</th>\n",
       "      <th>ANXYELFIN</th>\n",
       "    </tr>\n",
       "  </thead>\n",
       "  <tbody>\n",
       "    <tr>\n",
       "      <th>0</th>\n",
       "      <td>1</td>\n",
       "      <td>1</td>\n",
       "      <td>0</td>\n",
       "      <td>0</td>\n",
       "      <td>1</td>\n",
       "      <td>0</td>\n",
       "      <td>1</td>\n",
       "      <td>1</td>\n",
       "      <td>1</td>\n",
       "      <td>1</td>\n",
       "      <td>1</td>\n",
       "      <td>1</td>\n",
       "      <td>1</td>\n",
       "    </tr>\n",
       "    <tr>\n",
       "      <th>1</th>\n",
       "      <td>0</td>\n",
       "      <td>0</td>\n",
       "      <td>0</td>\n",
       "      <td>1</td>\n",
       "      <td>1</td>\n",
       "      <td>1</td>\n",
       "      <td>0</td>\n",
       "      <td>0</td>\n",
       "      <td>0</td>\n",
       "      <td>1</td>\n",
       "      <td>1</td>\n",
       "      <td>1</td>\n",
       "      <td>0</td>\n",
       "    </tr>\n",
       "    <tr>\n",
       "      <th>2</th>\n",
       "      <td>0</td>\n",
       "      <td>0</td>\n",
       "      <td>1</td>\n",
       "      <td>0</td>\n",
       "      <td>1</td>\n",
       "      <td>0</td>\n",
       "      <td>1</td>\n",
       "      <td>0</td>\n",
       "      <td>1</td>\n",
       "      <td>0</td>\n",
       "      <td>1</td>\n",
       "      <td>0</td>\n",
       "      <td>0</td>\n",
       "    </tr>\n",
       "    <tr>\n",
       "      <th>3</th>\n",
       "      <td>1</td>\n",
       "      <td>1</td>\n",
       "      <td>0</td>\n",
       "      <td>0</td>\n",
       "      <td>0</td>\n",
       "      <td>0</td>\n",
       "      <td>0</td>\n",
       "      <td>1</td>\n",
       "      <td>0</td>\n",
       "      <td>1</td>\n",
       "      <td>1</td>\n",
       "      <td>0</td>\n",
       "      <td>1</td>\n",
       "    </tr>\n",
       "    <tr>\n",
       "      <th>4</th>\n",
       "      <td>1</td>\n",
       "      <td>0</td>\n",
       "      <td>0</td>\n",
       "      <td>0</td>\n",
       "      <td>0</td>\n",
       "      <td>0</td>\n",
       "      <td>1</td>\n",
       "      <td>0</td>\n",
       "      <td>1</td>\n",
       "      <td>0</td>\n",
       "      <td>0</td>\n",
       "      <td>0</td>\n",
       "      <td>0</td>\n",
       "    </tr>\n",
       "    <tr>\n",
       "      <th>...</th>\n",
       "      <td>...</td>\n",
       "      <td>...</td>\n",
       "      <td>...</td>\n",
       "      <td>...</td>\n",
       "      <td>...</td>\n",
       "      <td>...</td>\n",
       "      <td>...</td>\n",
       "      <td>...</td>\n",
       "      <td>...</td>\n",
       "      <td>...</td>\n",
       "      <td>...</td>\n",
       "      <td>...</td>\n",
       "      <td>...</td>\n",
       "    </tr>\n",
       "    <tr>\n",
       "      <th>279</th>\n",
       "      <td>1</td>\n",
       "      <td>1</td>\n",
       "      <td>1</td>\n",
       "      <td>0</td>\n",
       "      <td>0</td>\n",
       "      <td>1</td>\n",
       "      <td>1</td>\n",
       "      <td>0</td>\n",
       "      <td>1</td>\n",
       "      <td>1</td>\n",
       "      <td>0</td>\n",
       "      <td>1</td>\n",
       "      <td>1</td>\n",
       "    </tr>\n",
       "    <tr>\n",
       "      <th>280</th>\n",
       "      <td>0</td>\n",
       "      <td>0</td>\n",
       "      <td>0</td>\n",
       "      <td>1</td>\n",
       "      <td>1</td>\n",
       "      <td>1</td>\n",
       "      <td>0</td>\n",
       "      <td>0</td>\n",
       "      <td>0</td>\n",
       "      <td>0</td>\n",
       "      <td>0</td>\n",
       "      <td>0</td>\n",
       "      <td>0</td>\n",
       "    </tr>\n",
       "    <tr>\n",
       "      <th>281</th>\n",
       "      <td>0</td>\n",
       "      <td>0</td>\n",
       "      <td>0</td>\n",
       "      <td>0</td>\n",
       "      <td>1</td>\n",
       "      <td>1</td>\n",
       "      <td>0</td>\n",
       "      <td>0</td>\n",
       "      <td>0</td>\n",
       "      <td>0</td>\n",
       "      <td>1</td>\n",
       "      <td>0</td>\n",
       "      <td>0</td>\n",
       "    </tr>\n",
       "    <tr>\n",
       "      <th>282</th>\n",
       "      <td>1</td>\n",
       "      <td>1</td>\n",
       "      <td>0</td>\n",
       "      <td>0</td>\n",
       "      <td>0</td>\n",
       "      <td>0</td>\n",
       "      <td>0</td>\n",
       "      <td>0</td>\n",
       "      <td>0</td>\n",
       "      <td>1</td>\n",
       "      <td>1</td>\n",
       "      <td>0</td>\n",
       "      <td>1</td>\n",
       "    </tr>\n",
       "    <tr>\n",
       "      <th>283</th>\n",
       "      <td>1</td>\n",
       "      <td>1</td>\n",
       "      <td>0</td>\n",
       "      <td>0</td>\n",
       "      <td>1</td>\n",
       "      <td>0</td>\n",
       "      <td>1</td>\n",
       "      <td>1</td>\n",
       "      <td>1</td>\n",
       "      <td>1</td>\n",
       "      <td>1</td>\n",
       "      <td>1</td>\n",
       "      <td>1</td>\n",
       "    </tr>\n",
       "  </tbody>\n",
       "</table>\n",
       "<p>276 rows × 13 columns</p>\n",
       "</div>"
      ],
      "text/plain": [
       "     YELLOW_FINGERS  ANXIETY  PEER_PRESSURE  CHRONIC DISEASE  FATIGUE   \\\n",
       "0                 1        1              0                0         1   \n",
       "1                 0        0              0                1         1   \n",
       "2                 0        0              1                0         1   \n",
       "3                 1        1              0                0         0   \n",
       "4                 1        0              0                0         0   \n",
       "..              ...      ...            ...              ...       ...   \n",
       "279               1        1              1                0         0   \n",
       "280               0        0              0                1         1   \n",
       "281               0        0              0                0         1   \n",
       "282               1        1              0                0         0   \n",
       "283               1        1              0                0         1   \n",
       "\n",
       "     ALLERGY   WHEEZING  ALCOHOL CONSUMING  COUGHING  SWALLOWING DIFFICULTY  \\\n",
       "0           0         1                  1         1                      1   \n",
       "1           1         0                  0         0                      1   \n",
       "2           0         1                  0         1                      0   \n",
       "3           0         0                  1         0                      1   \n",
       "4           0         1                  0         1                      0   \n",
       "..        ...       ...                ...       ...                    ...   \n",
       "279         1         1                  0         1                      1   \n",
       "280         1         0                  0         0                      0   \n",
       "281         1         0                  0         0                      0   \n",
       "282         0         0                  0         0                      1   \n",
       "283         0         1                  1         1                      1   \n",
       "\n",
       "     CHEST PAIN  LUNG_CANCER  ANXYELFIN  \n",
       "0             1            1          1  \n",
       "1             1            1          0  \n",
       "2             1            0          0  \n",
       "3             1            0          1  \n",
       "4             0            0          0  \n",
       "..          ...          ...        ...  \n",
       "279           0            1          1  \n",
       "280           0            0          0  \n",
       "281           1            0          0  \n",
       "282           1            0          1  \n",
       "283           1            1          1  \n",
       "\n",
       "[276 rows x 13 columns]"
      ]
     },
     "execution_count": 103,
     "metadata": {},
     "output_type": "execute_result"
    }
   ],
   "source": [
    "df_new['ANXYELFIN']=df_new['ANXIETY']*df_new['YELLOW_FINGERS']\n",
    "df_new"
   ]
  },
  {
   "cell_type": "code",
   "execution_count": 104,
   "metadata": {
    "execution": {
     "iopub.execute_input": "2023-03-04T12:01:11.067121Z",
     "iopub.status.busy": "2023-03-04T12:01:11.066793Z",
     "iopub.status.idle": "2023-03-04T12:01:11.074603Z",
     "shell.execute_reply": "2023-03-04T12:01:11.073499Z",
     "shell.execute_reply.started": "2023-03-04T12:01:11.067091Z"
    }
   },
   "outputs": [],
   "source": [
    "#Splitting independent and dependent variables\n",
    "X = df_new.drop('LUNG_CANCER', axis = 1)\n",
    "y = df_new['LUNG_CANCER']"
   ]
  },
  {
   "cell_type": "markdown",
   "metadata": {},
   "source": [
    "# ***Target Distribution Imbalance Handling***"
   ]
  },
  {
   "cell_type": "code",
   "execution_count": 105,
   "metadata": {
    "execution": {
     "iopub.execute_input": "2023-03-04T12:01:11.077201Z",
     "iopub.status.busy": "2023-03-04T12:01:11.076011Z",
     "iopub.status.idle": "2023-03-04T12:01:11.098555Z",
     "shell.execute_reply": "2023-03-04T12:01:11.097050Z",
     "shell.execute_reply.started": "2023-03-04T12:01:11.077137Z"
    }
   },
   "outputs": [],
   "source": [
    "from imblearn.over_sampling import ADASYN\n",
    "adasyn = ADASYN(random_state=42)\n",
    "X, y = adasyn.fit_resample(X, y)"
   ]
  },
  {
   "cell_type": "markdown",
   "metadata": {},
   "source": [
    "# **Logistic Regression**"
   ]
  },
  {
   "cell_type": "code",
   "execution_count": 106,
   "metadata": {
    "execution": {
     "iopub.execute_input": "2023-03-04T12:01:11.101484Z",
     "iopub.status.busy": "2023-03-04T12:01:11.100211Z",
     "iopub.status.idle": "2023-03-04T12:01:11.109962Z",
     "shell.execute_reply": "2023-03-04T12:01:11.108662Z",
     "shell.execute_reply.started": "2023-03-04T12:01:11.101449Z"
    }
   },
   "outputs": [],
   "source": [
    "#Splitting data for training and testing\n",
    "from sklearn.model_selection import train_test_split\n",
    "X_train, X_test, y_train, y_test= train_test_split(X, y, test_size= 0.25, random_state=0)"
   ]
  },
  {
   "cell_type": "code",
   "execution_count": 107,
   "metadata": {
    "execution": {
     "iopub.execute_input": "2023-03-04T12:01:11.112095Z",
     "iopub.status.busy": "2023-03-04T12:01:11.111679Z",
     "iopub.status.idle": "2023-03-04T12:01:11.135238Z",
     "shell.execute_reply": "2023-03-04T12:01:11.134058Z",
     "shell.execute_reply.started": "2023-03-04T12:01:11.112061Z"
    }
   },
   "outputs": [
    {
     "data": {
      "text/plain": [
       "LogisticRegression(random_state=0)"
      ]
     },
     "execution_count": 107,
     "metadata": {},
     "output_type": "execute_result"
    }
   ],
   "source": [
    "#Fitting training data to the model\n",
    "from sklearn.linear_model import LogisticRegression\n",
    "lr_model=LogisticRegression(random_state=0)\n",
    "lr_model.fit(X_train, y_train)"
   ]
  },
  {
   "cell_type": "code",
   "execution_count": 108,
   "metadata": {
    "execution": {
     "iopub.execute_input": "2023-03-04T12:01:11.137302Z",
     "iopub.status.busy": "2023-03-04T12:01:11.136866Z",
     "iopub.status.idle": "2023-03-04T12:01:11.147233Z",
     "shell.execute_reply": "2023-03-04T12:01:11.146032Z",
     "shell.execute_reply.started": "2023-03-04T12:01:11.137259Z"
    }
   },
   "outputs": [
    {
     "data": {
      "text/plain": [
       "array([1, 0, 0, 1, 0, 0, 1, 0, 0, 1, 1, 0, 1, 1, 0, 0, 0, 0, 1, 1, 1, 0,\n",
       "       1, 0, 0, 0, 1, 0, 0, 1, 0, 0, 0, 0, 1, 0, 1, 1, 1, 0, 1, 0, 0, 0,\n",
       "       1, 1, 0, 0, 1, 1, 0, 0, 0, 1, 0, 1, 1, 0, 0, 0, 0, 0, 0, 0, 1, 1,\n",
       "       0, 0, 1, 1, 1, 0, 1, 0, 0, 0, 1, 0, 1, 0, 1, 1, 1, 1, 0, 1, 1, 1,\n",
       "       0, 0, 0, 0, 1, 0, 0, 0, 1, 1, 0, 0, 1, 1, 1, 0, 1, 0, 1, 1, 0, 0,\n",
       "       1, 0, 0, 0, 0, 1, 0, 1, 1, 0])"
      ]
     },
     "execution_count": 108,
     "metadata": {},
     "output_type": "execute_result"
    }
   ],
   "source": [
    "#Predicting result using testing data\n",
    "y_lr_pred= lr_model.predict(X_test)\n",
    "y_lr_pred"
   ]
  },
  {
   "cell_type": "code",
   "execution_count": 109,
   "metadata": {
    "execution": {
     "iopub.execute_input": "2023-03-04T12:01:11.149374Z",
     "iopub.status.busy": "2023-03-04T12:01:11.148842Z",
     "iopub.status.idle": "2023-03-04T12:01:11.165541Z",
     "shell.execute_reply": "2023-03-04T12:01:11.164092Z",
     "shell.execute_reply.started": "2023-03-04T12:01:11.149341Z"
    }
   },
   "outputs": [
    {
     "name": "stdout",
     "output_type": "stream",
     "text": [
      "              precision    recall  f1-score   support\n",
      "\n",
      "           0       0.96      1.00      0.98        64\n",
      "           1       1.00      0.95      0.97        56\n",
      "\n",
      "    accuracy                           0.97       120\n",
      "   macro avg       0.98      0.97      0.97       120\n",
      "weighted avg       0.98      0.97      0.97       120\n",
      "\n"
     ]
    }
   ],
   "source": [
    "#Model accuracy\n",
    "from sklearn.metrics import classification_report, accuracy_score, f1_score\n",
    "lr_cr=classification_report(y_test, y_lr_pred)\n",
    "print(lr_cr)"
   ]
  },
  {
   "cell_type": "markdown",
   "metadata": {},
   "source": [
    "**This model is almost 97% accurate.**"
   ]
  },
  {
   "cell_type": "markdown",
   "metadata": {},
   "source": [
    "# **Decision Tree**"
   ]
  },
  {
   "cell_type": "code",
   "execution_count": 110,
   "metadata": {
    "execution": {
     "iopub.execute_input": "2023-03-04T12:01:11.168075Z",
     "iopub.status.busy": "2023-03-04T12:01:11.167168Z",
     "iopub.status.idle": "2023-03-04T12:01:11.179650Z",
     "shell.execute_reply": "2023-03-04T12:01:11.178536Z",
     "shell.execute_reply.started": "2023-03-04T12:01:11.168037Z"
    }
   },
   "outputs": [
    {
     "data": {
      "text/plain": [
       "DecisionTreeClassifier(criterion='entropy', random_state=0)"
      ]
     },
     "execution_count": 110,
     "metadata": {},
     "output_type": "execute_result"
    }
   ],
   "source": [
    "#Fitting training data to the model\n",
    "from sklearn.tree import DecisionTreeClassifier\n",
    "dt_model= DecisionTreeClassifier(criterion='entropy', random_state=0)  \n",
    "dt_model.fit(X_train, y_train)"
   ]
  },
  {
   "cell_type": "code",
   "execution_count": 111,
   "metadata": {
    "execution": {
     "iopub.execute_input": "2023-03-04T12:01:11.181422Z",
     "iopub.status.busy": "2023-03-04T12:01:11.180738Z",
     "iopub.status.idle": "2023-03-04T12:01:11.196800Z",
     "shell.execute_reply": "2023-03-04T12:01:11.195225Z",
     "shell.execute_reply.started": "2023-03-04T12:01:11.181389Z"
    }
   },
   "outputs": [
    {
     "data": {
      "text/plain": [
       "array([1, 0, 0, 1, 0, 0, 0, 0, 0, 1, 1, 0, 1, 1, 0, 0, 0, 0, 1, 1, 1, 0,\n",
       "       1, 1, 0, 0, 1, 0, 0, 1, 0, 0, 0, 0, 1, 0, 1, 1, 1, 0, 1, 0, 0, 0,\n",
       "       1, 0, 0, 0, 1, 1, 0, 0, 0, 1, 0, 1, 1, 0, 0, 0, 0, 0, 0, 0, 1, 1,\n",
       "       1, 0, 1, 1, 1, 0, 1, 0, 0, 0, 1, 0, 1, 0, 1, 1, 1, 1, 0, 1, 1, 1,\n",
       "       1, 0, 0, 0, 1, 0, 0, 0, 0, 1, 0, 0, 1, 1, 1, 0, 1, 0, 1, 1, 0, 0,\n",
       "       1, 0, 0, 0, 0, 1, 0, 1, 1, 0])"
      ]
     },
     "execution_count": 111,
     "metadata": {},
     "output_type": "execute_result"
    }
   ],
   "source": [
    "#Predicting result using testing data\n",
    "y_dt_pred= dt_model.predict(X_test)\n",
    "y_dt_pred"
   ]
  },
  {
   "cell_type": "code",
   "execution_count": 112,
   "metadata": {
    "execution": {
     "iopub.execute_input": "2023-03-04T12:01:11.199235Z",
     "iopub.status.busy": "2023-03-04T12:01:11.198336Z",
     "iopub.status.idle": "2023-03-04T12:01:11.211372Z",
     "shell.execute_reply": "2023-03-04T12:01:11.210271Z",
     "shell.execute_reply.started": "2023-03-04T12:01:11.199198Z"
    }
   },
   "outputs": [
    {
     "name": "stdout",
     "output_type": "stream",
     "text": [
      "              precision    recall  f1-score   support\n",
      "\n",
      "           0       0.93      0.97      0.95        64\n",
      "           1       0.96      0.91      0.94        56\n",
      "\n",
      "    accuracy                           0.94       120\n",
      "   macro avg       0.94      0.94      0.94       120\n",
      "weighted avg       0.94      0.94      0.94       120\n",
      "\n"
     ]
    }
   ],
   "source": [
    "#Model accuracy\n",
    "dt_cr=classification_report(y_test, y_dt_pred)\n",
    "print(dt_cr)"
   ]
  },
  {
   "cell_type": "markdown",
   "metadata": {},
   "source": [
    "**This model is 94% accurate.**"
   ]
  },
  {
   "cell_type": "markdown",
   "metadata": {},
   "source": [
    "# **K Nearest Neighbor**"
   ]
  },
  {
   "cell_type": "code",
   "execution_count": 113,
   "metadata": {
    "execution": {
     "iopub.execute_input": "2023-03-04T12:01:11.213177Z",
     "iopub.status.busy": "2023-03-04T12:01:11.212705Z",
     "iopub.status.idle": "2023-03-04T12:01:11.225879Z",
     "shell.execute_reply": "2023-03-04T12:01:11.224642Z",
     "shell.execute_reply.started": "2023-03-04T12:01:11.213118Z"
    }
   },
   "outputs": [
    {
     "data": {
      "text/plain": [
       "KNeighborsClassifier()"
      ]
     },
     "execution_count": 113,
     "metadata": {},
     "output_type": "execute_result"
    }
   ],
   "source": [
    "#Fitting K-NN classifier to the training set  \n",
    "from sklearn.neighbors import KNeighborsClassifier  \n",
    "knn_model= KNeighborsClassifier(n_neighbors=5, metric='minkowski', p=2 )  \n",
    "knn_model.fit(X_train, y_train)"
   ]
  },
  {
   "cell_type": "code",
   "execution_count": 114,
   "metadata": {
    "execution": {
     "iopub.execute_input": "2023-03-04T12:01:11.228028Z",
     "iopub.status.busy": "2023-03-04T12:01:11.227372Z",
     "iopub.status.idle": "2023-03-04T12:01:11.249076Z",
     "shell.execute_reply": "2023-03-04T12:01:11.247848Z",
     "shell.execute_reply.started": "2023-03-04T12:01:11.227993Z"
    }
   },
   "outputs": [
    {
     "data": {
      "text/plain": [
       "array([1, 0, 0, 1, 0, 0, 1, 0, 0, 1, 1, 0, 1, 1, 0, 0, 0, 0, 1, 1, 1, 0,\n",
       "       1, 0, 0, 0, 1, 0, 0, 1, 0, 0, 0, 0, 1, 0, 1, 1, 1, 0, 1, 0, 0, 0,\n",
       "       1, 0, 0, 0, 1, 1, 0, 0, 0, 1, 0, 1, 1, 0, 0, 0, 0, 0, 0, 0, 1, 1,\n",
       "       1, 0, 1, 1, 1, 0, 1, 0, 0, 0, 0, 0, 1, 0, 1, 1, 1, 1, 0, 1, 1, 1,\n",
       "       0, 0, 0, 0, 1, 0, 0, 0, 0, 1, 0, 0, 1, 1, 1, 0, 1, 0, 1, 1, 0, 0,\n",
       "       1, 0, 0, 0, 0, 1, 0, 1, 1, 0])"
      ]
     },
     "execution_count": 114,
     "metadata": {},
     "output_type": "execute_result"
    }
   ],
   "source": [
    "#Predicting result using testing data\n",
    "y_knn_pred= knn_model.predict(X_test)\n",
    "y_knn_pred"
   ]
  },
  {
   "cell_type": "code",
   "execution_count": 115,
   "metadata": {
    "execution": {
     "iopub.execute_input": "2023-03-04T12:01:11.250491Z",
     "iopub.status.busy": "2023-03-04T12:01:11.250165Z",
     "iopub.status.idle": "2023-03-04T12:01:11.263983Z",
     "shell.execute_reply": "2023-03-04T12:01:11.262879Z",
     "shell.execute_reply.started": "2023-03-04T12:01:11.250461Z"
    }
   },
   "outputs": [
    {
     "name": "stdout",
     "output_type": "stream",
     "text": [
      "              precision    recall  f1-score   support\n",
      "\n",
      "           0       0.93      1.00      0.96        64\n",
      "           1       1.00      0.91      0.95        56\n",
      "\n",
      "    accuracy                           0.96       120\n",
      "   macro avg       0.96      0.96      0.96       120\n",
      "weighted avg       0.96      0.96      0.96       120\n",
      "\n"
     ]
    }
   ],
   "source": [
    "#Model accuracy\n",
    "knn_cr=classification_report(y_test, y_knn_pred)\n",
    "print(knn_cr)"
   ]
  },
  {
   "cell_type": "markdown",
   "metadata": {},
   "source": [
    "**This model is 96% accurate.**"
   ]
  },
  {
   "cell_type": "markdown",
   "metadata": {},
   "source": [
    "# **Naive Bayes**"
   ]
  },
  {
   "cell_type": "markdown",
   "metadata": {},
   "source": [
    "### 1. Gaussian NB"
   ]
  },
  {
   "cell_type": "code",
   "execution_count": 116,
   "metadata": {
    "execution": {
     "iopub.execute_input": "2023-03-04T12:01:11.266726Z",
     "iopub.status.busy": "2023-03-04T12:01:11.266247Z",
     "iopub.status.idle": "2023-03-04T12:01:11.279402Z",
     "shell.execute_reply": "2023-03-04T12:01:11.278039Z",
     "shell.execute_reply.started": "2023-03-04T12:01:11.266677Z"
    }
   },
   "outputs": [
    {
     "data": {
      "text/plain": [
       "GaussianNB()"
      ]
     },
     "execution_count": 116,
     "metadata": {},
     "output_type": "execute_result"
    }
   ],
   "source": [
    "#Fitting Gaussian Naive Bayes classifier to the training set  \n",
    "from sklearn.naive_bayes import GaussianNB\n",
    "gnb_model = GaussianNB()\n",
    "gnb_model.fit(X_train, y_train)"
   ]
  },
  {
   "cell_type": "code",
   "execution_count": 117,
   "metadata": {
    "execution": {
     "iopub.execute_input": "2023-03-04T12:01:11.281688Z",
     "iopub.status.busy": "2023-03-04T12:01:11.281261Z",
     "iopub.status.idle": "2023-03-04T12:01:11.295909Z",
     "shell.execute_reply": "2023-03-04T12:01:11.294654Z",
     "shell.execute_reply.started": "2023-03-04T12:01:11.281654Z"
    }
   },
   "outputs": [
    {
     "data": {
      "text/plain": [
       "array([1, 1, 0, 1, 0, 0, 0, 0, 0, 1, 1, 0, 1, 1, 0, 0, 0, 0, 1, 1, 1, 0,\n",
       "       1, 1, 0, 1, 1, 0, 0, 1, 0, 0, 0, 0, 1, 0, 1, 1, 1, 0, 1, 0, 0, 0,\n",
       "       1, 1, 0, 0, 1, 1, 0, 0, 0, 1, 0, 1, 1, 0, 0, 0, 0, 1, 0, 1, 1, 1,\n",
       "       1, 0, 1, 1, 1, 1, 1, 0, 0, 0, 0, 0, 1, 0, 1, 1, 1, 1, 0, 1, 1, 1,\n",
       "       0, 0, 0, 0, 1, 0, 0, 1, 0, 1, 0, 0, 1, 1, 1, 0, 1, 0, 1, 1, 0, 0,\n",
       "       1, 1, 1, 0, 0, 1, 0, 1, 1, 0])"
      ]
     },
     "execution_count": 117,
     "metadata": {},
     "output_type": "execute_result"
    }
   ],
   "source": [
    "#Predicting result using testing data\n",
    "y_gnb_pred= gnb_model.predict(X_test)\n",
    "y_gnb_pred"
   ]
  },
  {
   "cell_type": "code",
   "execution_count": 118,
   "metadata": {
    "execution": {
     "iopub.execute_input": "2023-03-04T12:01:11.298709Z",
     "iopub.status.busy": "2023-03-04T12:01:11.297572Z",
     "iopub.status.idle": "2023-03-04T12:01:11.314122Z",
     "shell.execute_reply": "2023-03-04T12:01:11.312597Z",
     "shell.execute_reply.started": "2023-03-04T12:01:11.298664Z"
    }
   },
   "outputs": [
    {
     "name": "stdout",
     "output_type": "stream",
     "text": [
      "              precision    recall  f1-score   support\n",
      "\n",
      "           0       0.95      0.89      0.92        64\n",
      "           1       0.88      0.95      0.91        56\n",
      "\n",
      "    accuracy                           0.92       120\n",
      "   macro avg       0.92      0.92      0.92       120\n",
      "weighted avg       0.92      0.92      0.92       120\n",
      "\n"
     ]
    }
   ],
   "source": [
    "#Model accuracy\n",
    "gnb_cr=classification_report(y_test, y_gnb_pred)\n",
    "print(gnb_cr)"
   ]
  },
  {
   "cell_type": "markdown",
   "metadata": {},
   "source": [
    "**This model is 92% accurate.**"
   ]
  },
  {
   "cell_type": "markdown",
   "metadata": {},
   "source": [
    "### 2. Multinomial NB"
   ]
  },
  {
   "cell_type": "code",
   "execution_count": 119,
   "metadata": {
    "execution": {
     "iopub.execute_input": "2023-03-04T12:01:11.317444Z",
     "iopub.status.busy": "2023-03-04T12:01:11.316039Z",
     "iopub.status.idle": "2023-03-04T12:01:11.329441Z",
     "shell.execute_reply": "2023-03-04T12:01:11.328223Z",
     "shell.execute_reply.started": "2023-03-04T12:01:11.317394Z"
    }
   },
   "outputs": [
    {
     "data": {
      "text/plain": [
       "MultinomialNB()"
      ]
     },
     "execution_count": 119,
     "metadata": {},
     "output_type": "execute_result"
    }
   ],
   "source": [
    "#Fitting Multinomial Naive Bayes classifier to the training set  \n",
    "from sklearn.naive_bayes import MultinomialNB\n",
    "mnb_model = MultinomialNB()\n",
    "mnb_model.fit(X_train, y_train)"
   ]
  },
  {
   "cell_type": "code",
   "execution_count": 120,
   "metadata": {
    "execution": {
     "iopub.execute_input": "2023-03-04T12:01:11.331538Z",
     "iopub.status.busy": "2023-03-04T12:01:11.330921Z",
     "iopub.status.idle": "2023-03-04T12:01:11.343962Z",
     "shell.execute_reply": "2023-03-04T12:01:11.343073Z",
     "shell.execute_reply.started": "2023-03-04T12:01:11.331503Z"
    }
   },
   "outputs": [
    {
     "data": {
      "text/plain": [
       "array([1, 1, 0, 0, 0, 1, 0, 0, 0, 1, 1, 0, 1, 1, 0, 0, 0, 0, 1, 1, 1, 0,\n",
       "       1, 1, 1, 1, 1, 0, 0, 1, 1, 0, 0, 0, 1, 0, 1, 1, 1, 1, 0, 0, 1, 0,\n",
       "       1, 1, 0, 0, 1, 1, 0, 0, 0, 1, 0, 1, 1, 0, 0, 0, 0, 1, 0, 1, 1, 1,\n",
       "       1, 0, 1, 1, 1, 1, 1, 0, 1, 0, 0, 0, 1, 0, 1, 1, 1, 1, 1, 1, 1, 1,\n",
       "       0, 0, 0, 0, 1, 1, 0, 1, 0, 1, 0, 0, 1, 1, 1, 0, 1, 0, 1, 1, 0, 0,\n",
       "       1, 1, 1, 1, 1, 1, 0, 0, 1, 0])"
      ]
     },
     "execution_count": 120,
     "metadata": {},
     "output_type": "execute_result"
    }
   ],
   "source": [
    "#Predicting result using testing data\n",
    "y_mnb_pred= mnb_model.predict(X_test)\n",
    "y_mnb_pred"
   ]
  },
  {
   "cell_type": "code",
   "execution_count": 121,
   "metadata": {
    "execution": {
     "iopub.execute_input": "2023-03-04T12:01:11.346229Z",
     "iopub.status.busy": "2023-03-04T12:01:11.345331Z",
     "iopub.status.idle": "2023-03-04T12:01:11.358582Z",
     "shell.execute_reply": "2023-03-04T12:01:11.357432Z",
     "shell.execute_reply.started": "2023-03-04T12:01:11.346177Z"
    }
   },
   "outputs": [
    {
     "name": "stdout",
     "output_type": "stream",
     "text": [
      "              precision    recall  f1-score   support\n",
      "\n",
      "           0       0.89      0.73      0.80        64\n",
      "           1       0.75      0.89      0.81        56\n",
      "\n",
      "    accuracy                           0.81       120\n",
      "   macro avg       0.82      0.81      0.81       120\n",
      "weighted avg       0.82      0.81      0.81       120\n",
      "\n"
     ]
    }
   ],
   "source": [
    "#Model accuracy\n",
    "mnb_cr=classification_report(y_test, y_mnb_pred)\n",
    "print(mnb_cr)"
   ]
  },
  {
   "cell_type": "markdown",
   "metadata": {},
   "source": [
    "**This model is 81% accurate.**"
   ]
  },
  {
   "cell_type": "markdown",
   "metadata": {},
   "source": [
    "# **Support Vector Classifier**"
   ]
  },
  {
   "cell_type": "code",
   "execution_count": 122,
   "metadata": {
    "execution": {
     "iopub.execute_input": "2023-03-04T12:01:11.361050Z",
     "iopub.status.busy": "2023-03-04T12:01:11.360129Z",
     "iopub.status.idle": "2023-03-04T12:01:11.374077Z",
     "shell.execute_reply": "2023-03-04T12:01:11.373237Z",
     "shell.execute_reply.started": "2023-03-04T12:01:11.361012Z"
    }
   },
   "outputs": [
    {
     "data": {
      "text/plain": [
       "SVC()"
      ]
     },
     "execution_count": 122,
     "metadata": {},
     "output_type": "execute_result"
    }
   ],
   "source": [
    "#Fitting SVC to the training set  \n",
    "from sklearn.svm import SVC\n",
    "svc_model = SVC()\n",
    "svc_model.fit(X_train, y_train)"
   ]
  },
  {
   "cell_type": "code",
   "execution_count": 123,
   "metadata": {
    "execution": {
     "iopub.execute_input": "2023-03-04T12:01:11.375884Z",
     "iopub.status.busy": "2023-03-04T12:01:11.375576Z",
     "iopub.status.idle": "2023-03-04T12:01:11.386044Z",
     "shell.execute_reply": "2023-03-04T12:01:11.385088Z",
     "shell.execute_reply.started": "2023-03-04T12:01:11.375854Z"
    }
   },
   "outputs": [
    {
     "data": {
      "text/plain": [
       "array([1, 1, 0, 1, 0, 0, 1, 0, 0, 1, 1, 0, 1, 1, 0, 0, 0, 0, 1, 1, 1, 0,\n",
       "       1, 1, 0, 0, 1, 0, 0, 1, 0, 0, 0, 0, 1, 0, 1, 1, 1, 0, 1, 0, 0, 0,\n",
       "       1, 1, 0, 0, 1, 1, 0, 0, 0, 1, 0, 1, 1, 0, 0, 0, 0, 0, 0, 0, 1, 1,\n",
       "       1, 0, 1, 1, 1, 1, 1, 0, 0, 0, 1, 0, 1, 0, 1, 1, 1, 1, 0, 1, 1, 1,\n",
       "       0, 0, 0, 0, 1, 0, 0, 0, 0, 1, 0, 0, 1, 1, 1, 0, 1, 0, 1, 1, 0, 0,\n",
       "       1, 0, 0, 0, 0, 1, 0, 1, 1, 0])"
      ]
     },
     "execution_count": 123,
     "metadata": {},
     "output_type": "execute_result"
    }
   ],
   "source": [
    "#Predicting result using testing data\n",
    "y_svc_pred= svc_model.predict(X_test)\n",
    "y_svc_pred"
   ]
  },
  {
   "cell_type": "code",
   "execution_count": 124,
   "metadata": {
    "execution": {
     "iopub.execute_input": "2023-03-04T12:01:11.388015Z",
     "iopub.status.busy": "2023-03-04T12:01:11.387110Z",
     "iopub.status.idle": "2023-03-04T12:01:11.399419Z",
     "shell.execute_reply": "2023-03-04T12:01:11.398182Z",
     "shell.execute_reply.started": "2023-03-04T12:01:11.387983Z"
    }
   },
   "outputs": [
    {
     "name": "stdout",
     "output_type": "stream",
     "text": [
      "              precision    recall  f1-score   support\n",
      "\n",
      "           0       0.98      0.98      0.98        64\n",
      "           1       0.98      0.98      0.98        56\n",
      "\n",
      "    accuracy                           0.98       120\n",
      "   macro avg       0.98      0.98      0.98       120\n",
      "weighted avg       0.98      0.98      0.98       120\n",
      "\n"
     ]
    }
   ],
   "source": [
    "#Model accuracy\n",
    "svc_cr=classification_report(y_test, y_svc_pred)\n",
    "print(svc_cr)"
   ]
  },
  {
   "cell_type": "markdown",
   "metadata": {},
   "source": [
    "**This model is 98% accurate.**"
   ]
  },
  {
   "cell_type": "markdown",
   "metadata": {},
   "source": [
    "# **Random Forest**"
   ]
  },
  {
   "cell_type": "code",
   "execution_count": 125,
   "metadata": {
    "execution": {
     "iopub.execute_input": "2023-03-04T12:01:11.403102Z",
     "iopub.status.busy": "2023-03-04T12:01:11.400528Z",
     "iopub.status.idle": "2023-03-04T12:01:11.578470Z",
     "shell.execute_reply": "2023-03-04T12:01:11.577292Z",
     "shell.execute_reply.started": "2023-03-04T12:01:11.403067Z"
    }
   },
   "outputs": [
    {
     "data": {
      "text/plain": [
       "RandomForestClassifier()"
      ]
     },
     "execution_count": 125,
     "metadata": {},
     "output_type": "execute_result"
    }
   ],
   "source": [
    "#Training\n",
    "from sklearn.ensemble import RandomForestClassifier\n",
    "rf_model = RandomForestClassifier()\n",
    "rf_model.fit(X_train, y_train)"
   ]
  },
  {
   "cell_type": "code",
   "execution_count": 126,
   "metadata": {
    "execution": {
     "iopub.execute_input": "2023-03-04T12:01:11.580523Z",
     "iopub.status.busy": "2023-03-04T12:01:11.580064Z",
     "iopub.status.idle": "2023-03-04T12:01:11.608093Z",
     "shell.execute_reply": "2023-03-04T12:01:11.607249Z",
     "shell.execute_reply.started": "2023-03-04T12:01:11.580480Z"
    }
   },
   "outputs": [
    {
     "data": {
      "text/plain": [
       "array([1, 1, 0, 1, 0, 0, 1, 0, 0, 1, 1, 0, 1, 1, 0, 0, 0, 0, 1, 1, 1, 0,\n",
       "       1, 1, 0, 0, 1, 0, 0, 1, 0, 0, 0, 0, 1, 0, 1, 1, 1, 0, 1, 0, 0, 0,\n",
       "       1, 1, 0, 0, 1, 1, 0, 0, 0, 1, 0, 1, 1, 0, 0, 0, 0, 0, 0, 0, 1, 1,\n",
       "       1, 0, 1, 1, 1, 1, 1, 0, 0, 0, 1, 0, 1, 0, 1, 1, 1, 1, 0, 1, 1, 1,\n",
       "       0, 0, 0, 0, 1, 0, 0, 0, 0, 1, 0, 0, 1, 1, 1, 0, 1, 0, 1, 1, 0, 0,\n",
       "       1, 0, 0, 0, 0, 1, 0, 1, 1, 0])"
      ]
     },
     "execution_count": 126,
     "metadata": {},
     "output_type": "execute_result"
    }
   ],
   "source": [
    "#Predicting result using testing data\n",
    "y_rf_pred= rf_model.predict(X_test)\n",
    "y_rf_pred"
   ]
  },
  {
   "cell_type": "code",
   "execution_count": 127,
   "metadata": {
    "execution": {
     "iopub.execute_input": "2023-03-04T12:01:11.610199Z",
     "iopub.status.busy": "2023-03-04T12:01:11.609830Z",
     "iopub.status.idle": "2023-03-04T12:01:11.621951Z",
     "shell.execute_reply": "2023-03-04T12:01:11.620639Z",
     "shell.execute_reply.started": "2023-03-04T12:01:11.610138Z"
    }
   },
   "outputs": [
    {
     "name": "stdout",
     "output_type": "stream",
     "text": [
      "              precision    recall  f1-score   support\n",
      "\n",
      "           0       0.98      0.98      0.98        64\n",
      "           1       0.98      0.98      0.98        56\n",
      "\n",
      "    accuracy                           0.98       120\n",
      "   macro avg       0.98      0.98      0.98       120\n",
      "weighted avg       0.98      0.98      0.98       120\n",
      "\n"
     ]
    }
   ],
   "source": [
    "#Model accuracy\n",
    "rf_cr=classification_report(y_test, y_rf_pred)\n",
    "print(rf_cr)"
   ]
  },
  {
   "cell_type": "markdown",
   "metadata": {},
   "source": [
    "**This model is 98% accurate.**"
   ]
  },
  {
   "cell_type": "markdown",
   "metadata": {},
   "source": [
    "# **XGBoost**"
   ]
  },
  {
   "cell_type": "code",
   "execution_count": 128,
   "metadata": {
    "execution": {
     "iopub.execute_input": "2023-03-04T12:01:11.623808Z",
     "iopub.status.busy": "2023-03-04T12:01:11.623359Z",
     "iopub.status.idle": "2023-03-04T12:01:11.929336Z",
     "shell.execute_reply": "2023-03-04T12:01:11.928365Z",
     "shell.execute_reply.started": "2023-03-04T12:01:11.623733Z"
    }
   },
   "outputs": [
    {
     "data": {
      "text/plain": [
       "XGBClassifier(base_score=0.5, booster='gbtree', callbacks=None,\n",
       "              colsample_bylevel=1, colsample_bynode=1, colsample_bytree=1,\n",
       "              early_stopping_rounds=None, enable_categorical=False,\n",
       "              eval_metric=None, gamma=0, gpu_id=-1, grow_policy='depthwise',\n",
       "              importance_type=None, interaction_constraints='',\n",
       "              learning_rate=0.300000012, max_bin=256, max_cat_to_onehot=4,\n",
       "              max_delta_step=0, max_depth=6, max_leaves=0, min_child_weight=1,\n",
       "              missing=nan, monotone_constraints='()', n_estimators=100,\n",
       "              n_jobs=0, num_parallel_tree=1, predictor='auto', random_state=0,\n",
       "              reg_alpha=0, reg_lambda=1, ...)"
      ]
     },
     "execution_count": 128,
     "metadata": {},
     "output_type": "execute_result"
    }
   ],
   "source": [
    "from xgboost import XGBClassifier\n",
    "xgb_model = XGBClassifier()\n",
    "xgb_model.fit(X_train, y_train)"
   ]
  },
  {
   "cell_type": "code",
   "execution_count": 129,
   "metadata": {
    "execution": {
     "iopub.execute_input": "2023-03-04T12:01:11.935801Z",
     "iopub.status.busy": "2023-03-04T12:01:11.933504Z",
     "iopub.status.idle": "2023-03-04T12:01:11.955874Z",
     "shell.execute_reply": "2023-03-04T12:01:11.954957Z",
     "shell.execute_reply.started": "2023-03-04T12:01:11.935747Z"
    }
   },
   "outputs": [
    {
     "data": {
      "text/plain": [
       "array([1, 1, 0, 1, 0, 0, 1, 0, 0, 1, 1, 0, 1, 1, 0, 0, 0, 0, 1, 1, 1, 0,\n",
       "       1, 1, 0, 0, 1, 0, 0, 1, 0, 0, 0, 0, 1, 0, 1, 1, 1, 0, 1, 0, 0, 0,\n",
       "       1, 1, 0, 0, 1, 1, 0, 0, 0, 1, 0, 1, 1, 0, 0, 0, 0, 0, 0, 0, 1, 1,\n",
       "       1, 0, 1, 1, 1, 1, 1, 0, 0, 0, 1, 0, 1, 0, 1, 1, 1, 1, 0, 1, 1, 1,\n",
       "       1, 0, 0, 0, 1, 0, 0, 0, 0, 1, 0, 0, 1, 1, 1, 0, 1, 0, 1, 1, 0, 0,\n",
       "       1, 0, 0, 0, 0, 1, 0, 1, 1, 0])"
      ]
     },
     "execution_count": 129,
     "metadata": {},
     "output_type": "execute_result"
    }
   ],
   "source": [
    "#Predicting result using testing data\n",
    "y_xgb_pred= xgb_model.predict(X_test)\n",
    "y_xgb_pred"
   ]
  },
  {
   "cell_type": "code",
   "execution_count": 130,
   "metadata": {
    "execution": {
     "iopub.execute_input": "2023-03-04T12:01:11.960931Z",
     "iopub.status.busy": "2023-03-04T12:01:11.960215Z",
     "iopub.status.idle": "2023-03-04T12:01:11.975059Z",
     "shell.execute_reply": "2023-03-04T12:01:11.973760Z",
     "shell.execute_reply.started": "2023-03-04T12:01:11.960896Z"
    }
   },
   "outputs": [
    {
     "name": "stdout",
     "output_type": "stream",
     "text": [
      "              precision    recall  f1-score   support\n",
      "\n",
      "           0       0.98      0.97      0.98        64\n",
      "           1       0.96      0.98      0.97        56\n",
      "\n",
      "    accuracy                           0.97       120\n",
      "   macro avg       0.97      0.98      0.97       120\n",
      "weighted avg       0.98      0.97      0.98       120\n",
      "\n"
     ]
    }
   ],
   "source": [
    "#Model accuracy\n",
    "xgb_cr=classification_report(y_test, y_xgb_pred)\n",
    "print(xgb_cr)"
   ]
  },
  {
   "cell_type": "markdown",
   "metadata": {},
   "source": [
    "**This model is 97% accurate.**"
   ]
  },
  {
   "cell_type": "markdown",
   "metadata": {
    "execution": {
     "iopub.execute_input": "2023-02-24T06:18:38.849499Z",
     "iopub.status.busy": "2023-02-24T06:18:38.849101Z",
     "iopub.status.idle": "2023-02-24T06:18:38.854549Z",
     "shell.execute_reply": "2023-02-24T06:18:38.853244Z",
     "shell.execute_reply.started": "2023-02-24T06:18:38.849467Z"
    }
   },
   "source": [
    "# **Multi-layer Perceptron classifier**"
   ]
  },
  {
   "cell_type": "code",
   "execution_count": 131,
   "metadata": {
    "execution": {
     "iopub.execute_input": "2023-03-04T12:01:11.976779Z",
     "iopub.status.busy": "2023-03-04T12:01:11.976451Z",
     "iopub.status.idle": "2023-03-04T12:01:12.750807Z",
     "shell.execute_reply": "2023-03-04T12:01:12.749233Z",
     "shell.execute_reply.started": "2023-03-04T12:01:11.976750Z"
    }
   },
   "outputs": [
    {
     "data": {
      "text/plain": [
       "MLPClassifier()"
      ]
     },
     "execution_count": 131,
     "metadata": {},
     "output_type": "execute_result"
    }
   ],
   "source": [
    "#Training a neural network model\n",
    "from sklearn.neural_network import MLPClassifier\n",
    "mlp_model = MLPClassifier()\n",
    "mlp_model.fit(X_train, y_train)"
   ]
  },
  {
   "cell_type": "code",
   "execution_count": 132,
   "metadata": {
    "execution": {
     "iopub.execute_input": "2023-03-04T12:01:12.760023Z",
     "iopub.status.busy": "2023-03-04T12:01:12.758718Z",
     "iopub.status.idle": "2023-03-04T12:01:12.776350Z",
     "shell.execute_reply": "2023-03-04T12:01:12.774708Z",
     "shell.execute_reply.started": "2023-03-04T12:01:12.759948Z"
    }
   },
   "outputs": [
    {
     "data": {
      "text/plain": [
       "array([1, 1, 0, 1, 0, 0, 1, 0, 0, 1, 1, 0, 1, 1, 0, 0, 0, 0, 1, 1, 1, 0,\n",
       "       1, 1, 0, 0, 1, 0, 0, 1, 0, 0, 0, 0, 1, 0, 1, 1, 1, 0, 1, 0, 0, 0,\n",
       "       1, 1, 0, 0, 1, 1, 0, 0, 0, 1, 0, 1, 1, 0, 0, 0, 0, 0, 0, 0, 1, 1,\n",
       "       1, 0, 1, 1, 1, 1, 1, 0, 0, 0, 1, 0, 1, 0, 1, 1, 1, 1, 0, 1, 1, 1,\n",
       "       0, 0, 0, 0, 1, 0, 0, 0, 0, 1, 0, 0, 1, 1, 1, 0, 1, 0, 1, 1, 0, 0,\n",
       "       1, 0, 0, 0, 0, 1, 0, 1, 1, 0])"
      ]
     },
     "execution_count": 132,
     "metadata": {},
     "output_type": "execute_result"
    }
   ],
   "source": [
    "#Predicting result using testing data\n",
    "y_mlp_pred= mlp_model.predict(X_test)\n",
    "y_mlp_pred"
   ]
  },
  {
   "cell_type": "code",
   "execution_count": 133,
   "metadata": {
    "execution": {
     "iopub.execute_input": "2023-03-04T12:01:12.779853Z",
     "iopub.status.busy": "2023-03-04T12:01:12.778482Z",
     "iopub.status.idle": "2023-03-04T12:01:12.798211Z",
     "shell.execute_reply": "2023-03-04T12:01:12.796722Z",
     "shell.execute_reply.started": "2023-03-04T12:01:12.779786Z"
    }
   },
   "outputs": [
    {
     "name": "stdout",
     "output_type": "stream",
     "text": [
      "              precision    recall  f1-score   support\n",
      "\n",
      "           0       0.98      0.98      0.98        64\n",
      "           1       0.98      0.98      0.98        56\n",
      "\n",
      "    accuracy                           0.98       120\n",
      "   macro avg       0.98      0.98      0.98       120\n",
      "weighted avg       0.98      0.98      0.98       120\n",
      "\n"
     ]
    }
   ],
   "source": [
    "#Model accuracy\n",
    "mlp_cr=classification_report(y_test, y_mlp_pred)\n",
    "print(mlp_cr)"
   ]
  },
  {
   "cell_type": "markdown",
   "metadata": {},
   "source": [
    "**This model is 98% accurate.**"
   ]
  },
  {
   "cell_type": "markdown",
   "metadata": {
    "execution": {
     "iopub.execute_input": "2023-02-24T06:21:03.647586Z",
     "iopub.status.busy": "2023-02-24T06:21:03.647154Z",
     "iopub.status.idle": "2023-02-24T06:21:03.653955Z",
     "shell.execute_reply": "2023-02-24T06:21:03.652238Z",
     "shell.execute_reply.started": "2023-02-24T06:21:03.647552Z"
    }
   },
   "source": [
    "# **Gradient Boosting**"
   ]
  },
  {
   "cell_type": "code",
   "execution_count": 134,
   "metadata": {
    "execution": {
     "iopub.execute_input": "2023-03-04T12:01:12.801330Z",
     "iopub.status.busy": "2023-03-04T12:01:12.800453Z",
     "iopub.status.idle": "2023-03-04T12:01:12.934136Z",
     "shell.execute_reply": "2023-03-04T12:01:12.932969Z",
     "shell.execute_reply.started": "2023-03-04T12:01:12.801268Z"
    }
   },
   "outputs": [
    {
     "data": {
      "text/plain": [
       "GradientBoostingClassifier()"
      ]
     },
     "execution_count": 134,
     "metadata": {},
     "output_type": "execute_result"
    }
   ],
   "source": [
    "#Training\n",
    "from sklearn.ensemble import GradientBoostingClassifier\n",
    "gb_model = GradientBoostingClassifier()\n",
    "gb_model.fit(X_train, y_train)"
   ]
  },
  {
   "cell_type": "code",
   "execution_count": 135,
   "metadata": {
    "execution": {
     "iopub.execute_input": "2023-03-04T12:01:12.936118Z",
     "iopub.status.busy": "2023-03-04T12:01:12.935676Z",
     "iopub.status.idle": "2023-03-04T12:01:12.947361Z",
     "shell.execute_reply": "2023-03-04T12:01:12.946229Z",
     "shell.execute_reply.started": "2023-03-04T12:01:12.936074Z"
    }
   },
   "outputs": [
    {
     "data": {
      "text/plain": [
       "array([1, 1, 0, 1, 0, 0, 1, 0, 0, 1, 1, 0, 1, 1, 0, 0, 0, 0, 1, 1, 1, 0,\n",
       "       1, 1, 0, 0, 1, 0, 0, 1, 0, 0, 0, 0, 1, 0, 1, 1, 1, 0, 1, 0, 0, 0,\n",
       "       1, 1, 0, 0, 1, 1, 0, 0, 0, 1, 0, 1, 1, 0, 0, 0, 0, 0, 0, 0, 1, 1,\n",
       "       1, 0, 1, 1, 1, 1, 1, 0, 0, 0, 1, 0, 1, 0, 1, 1, 1, 1, 0, 1, 1, 1,\n",
       "       0, 0, 0, 0, 1, 0, 0, 0, 0, 1, 0, 0, 1, 1, 1, 0, 1, 0, 1, 1, 0, 0,\n",
       "       1, 0, 0, 0, 0, 1, 0, 1, 1, 0])"
      ]
     },
     "execution_count": 135,
     "metadata": {},
     "output_type": "execute_result"
    }
   ],
   "source": [
    "#Predicting result using testing data\n",
    "y_gb_pred= gb_model.predict(X_test)\n",
    "y_gb_pred"
   ]
  },
  {
   "cell_type": "code",
   "execution_count": 136,
   "metadata": {
    "execution": {
     "iopub.execute_input": "2023-03-04T12:01:12.949413Z",
     "iopub.status.busy": "2023-03-04T12:01:12.948897Z",
     "iopub.status.idle": "2023-03-04T12:01:12.962492Z",
     "shell.execute_reply": "2023-03-04T12:01:12.961222Z",
     "shell.execute_reply.started": "2023-03-04T12:01:12.949365Z"
    }
   },
   "outputs": [
    {
     "name": "stdout",
     "output_type": "stream",
     "text": [
      "              precision    recall  f1-score   support\n",
      "\n",
      "           0       0.98      0.98      0.98        64\n",
      "           1       0.98      0.98      0.98        56\n",
      "\n",
      "    accuracy                           0.98       120\n",
      "   macro avg       0.98      0.98      0.98       120\n",
      "weighted avg       0.98      0.98      0.98       120\n",
      "\n"
     ]
    }
   ],
   "source": [
    "#Model accuracy\n",
    "gb_cr=classification_report(y_test, y_gb_pred)\n",
    "print(gb_cr)"
   ]
  },
  {
   "cell_type": "markdown",
   "metadata": {},
   "source": [
    "**This model is 98% accurate.**"
   ]
  }
 ],
 "metadata": {
  "kernelspec": {
   "display_name": "Python 3 (ipykernel)",
   "language": "python",
   "name": "python3"
  },
  "language_info": {
   "codemirror_mode": {
    "name": "ipython",
    "version": 3
   },
   "file_extension": ".py",
   "mimetype": "text/x-python",
   "name": "python",
   "nbconvert_exporter": "python",
   "pygments_lexer": "ipython3",
   "version": "3.9.13"
  }
 },
 "nbformat": 4,
 "nbformat_minor": 4
}
